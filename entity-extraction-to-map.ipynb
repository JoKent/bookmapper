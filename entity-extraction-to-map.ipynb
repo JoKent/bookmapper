{
 "cells": [
  {
   "cell_type": "code",
   "execution_count": 1,
   "id": "873173d3",
   "metadata": {},
   "outputs": [],
   "source": [
    "import spacy\n",
    "import csv\n",
    "import pandas as pd\n",
    "import json\n",
    "import requests\n",
    "import geopandas\n",
    "from geodatasets import get_path\n",
    "import matplotlib.pyplot as plt\n",
    "import folium\n"
   ]
  },
  {
   "cell_type": "code",
   "execution_count": 7,
   "id": "4e064039",
   "metadata": {},
   "outputs": [],
   "source": [
    "import folium"
   ]
  },
  {
   "cell_type": "markdown",
   "id": "fbb0ecd7",
   "metadata": {},
   "source": [
    "initial entity extraction with spacy, using 2 files as spacy has word limits"
   ]
  },
  {
   "cell_type": "code",
   "execution_count": 10,
   "id": "bb6c3656",
   "metadata": {},
   "outputs": [],
   "source": [
    "with open('agatha2.txt', 'r', encoding='utf-8') as file:\n",
    "    content2 = file.read()"
   ]
  },
  {
   "cell_type": "code",
   "execution_count": null,
   "id": "71ab5187",
   "metadata": {},
   "outputs": [],
   "source": [
    "entities = list()\n",
    "nlp = spacy.load(\"en_core_web_sm\")\n",
    "doc = nlp(content)\n",
    "for entity in doc.ents:\n",
    "     if entity.label_ in [\"FAC\", \"GPE\", \"LOC\", \"ORG\"]:\n",
    "          entities.append(entity)\n",
    "          print(entity)"
   ]
  },
  {
   "cell_type": "code",
   "execution_count": 11,
   "id": "2efb2e2e",
   "metadata": {},
   "outputs": [],
   "source": [
    "doc2 = nlp(content2)"
   ]
  },
  {
   "cell_type": "code",
   "execution_count": 12,
   "id": "8a5ea226",
   "metadata": {},
   "outputs": [
    {
     "data": {
      "text/plain": [
       "2627"
      ]
     },
     "execution_count": 12,
     "metadata": {},
     "output_type": "execute_result"
    }
   ],
   "source": [
    "for entity in doc2.ents:\n",
    "     if entity.label_ in [\"FAC\", \"GPE\", \"LOC\", \"ORG\"]:\n",
    "          entities.append(entity)\n",
    "len(entities)"
   ]
  },
  {
   "cell_type": "code",
   "execution_count": 13,
   "id": "062a9bf7",
   "metadata": {},
   "outputs": [],
   "source": [
    "with open('ents.csv', 'w', newline='') as file:\n",
    "    writer = csv.writer(file)\n",
    "    writer.writerow(entities)"
   ]
  },
  {
   "cell_type": "code",
   "execution_count": null,
   "id": "030a95ae",
   "metadata": {},
   "outputs": [],
   "source": []
  },
  {
   "cell_type": "markdown",
   "id": "7467a99d",
   "metadata": {},
   "source": [
    "matching using api query"
   ]
  },
  {
   "cell_type": "code",
   "execution_count": 43,
   "id": "f2a7a05a",
   "metadata": {},
   "outputs": [],
   "source": [
    "def getcoords(label):\n",
    "    coords = None\n",
    "    try:\n",
    "        site = pywikibot.Site(\"en\", \"wikipedia\")\n",
    "        page = pywikibot.Page(site, label)\n",
    "        item = pywikibot.ItemPage.fromPage(page) \n",
    "        item_dict = item.get()  \n",
    "        claims = item_dict[\"claims\"] \n",
    "        if 'P625' in claims:\n",
    "            cc = claims['P625']\n",
    "            for clm in cc:\n",
    "                coords = clm.getTarget()\n",
    "    except:\n",
    "        print(\"not found\")\n",
    "    return(coords)"
   ]
  },
  {
   "cell_type": "code",
   "execution_count": null,
   "id": "f9f11f2e",
   "metadata": {},
   "outputs": [],
   "source": [
    "with open('agplaces.csv', newline='') as csvfile:\n",
    "    reader = csv.DictReader(csvfile)\n",
    "    for row in reader:\n",
    "        coords = getcoords(row['Name'])\n",
    "        print(row['Name'],type(row['Name']))\n"
   ]
  },
  {
   "cell_type": "code",
   "execution_count": null,
   "id": "58087f08",
   "metadata": {},
   "outputs": [],
   "source": [
    "with open('places.csv', 'w', newline='') as csvfile:\n",
    "    fieldnames = ['label', 'coords']\n",
    "    writer = csv.DictWriter(csvfile, fieldnames=fieldnames)\n",
    "    writer.writeheader()\n",
    "    with open('agplaces.csv', newline='') as csvfile:\n",
    "        reader = csv.DictReader(csvfile)\n",
    "        for row in reader:\n",
    "            label = row['Name']\n",
    "            coords = getcoords(label)\n",
    "            writer.writerow({'label': label, 'coords': coords}) "
   ]
  },
  {
   "cell_type": "code",
   "execution_count": null,
   "id": "7037c691",
   "metadata": {},
   "outputs": [],
   "source": [
    "# using api query"
   ]
  },
  {
   "cell_type": "code",
   "execution_count": null,
   "id": "fbdec860",
   "metadata": {},
   "outputs": [],
   "source": [
    "query = '''SELECT distinct ?item ?itemLabel ?itemDescription ?coords WHERE{  \n",
    "  ?item ?label \"'''\n",
    "query2 = '''\"@en.   \n",
    "  ?article schema:about ?item .\n",
    "  SERVICE wikibase:label { bd:serviceParam wikibase:language \"en\". }   \n",
    "  OPTIONAL {\n",
    "        ?item wdt:P625 ?coords .\n",
    "    }\n",
    "}'''\n",
    "url = 'https://query.wikidata.org/bigdata/namespace/wdq/sparql'"
   ]
  },
  {
   "cell_type": "code",
   "execution_count": null,
   "id": "f42efdbe",
   "metadata": {},
   "outputs": [],
   "source": [
    "\n",
    "data = requests.get(url, params={'query': query+'Alexandretta'+query2, 'format': 'json'}).json()"
   ]
  },
  {
   "cell_type": "code",
   "execution_count": 69,
   "id": "1f3cff33",
   "metadata": {},
   "outputs": [
    {
     "name": "stdout",
     "output_type": "stream",
     "text": [
      "http://www.wikidata.org/entity/Q174341 İskenderun district and city in Hatay, Turkey Point(36.173333333 36.587222222)\n"
     ]
    }
   ],
   "source": [
    "for item in data['results']['bindings']:\n",
    "    if 'coords' in item:\n",
    "        print(item['item']['value'], item['itemLabel']['value'], item['itemDescription']['value'], item['coords']['value'])"
   ]
  },
  {
   "cell_type": "code",
   "execution_count": null,
   "id": "acd83097",
   "metadata": {},
   "outputs": [],
   "source": [
    "agplacedf = pd.DataFrame(columns=['wid', 'name', 'label', 'description', 'coords']) \n",
    "\n",
    "with open('agplaces.csv', newline='') as csvfile:\n",
    "    reader = csv.DictReader(csvfile)\n",
    "    for row in reader:\n",
    "        name = row['Name']\n",
    "        try:\n",
    "            data = requests.get(url, params={'query': query+name+query2, 'format': 'json'}).json()\n",
    "            for item in data['results']['bindings']:\n",
    "                if 'coords' in item:\n",
    "                    wid = item['item']['value'].replace('http://www.wikidata.org/entity/','')\n",
    "                    new_row = {'wid':wid, 'name': name, 'label': item['itemLabel']['value'], 'description': item['itemDescription']['value'], 'coords':item['coords']['value']}\n",
    "                    agplacedf = agplacedf._append(new_row, ignore_index=True)\n",
    "                    print('found',new_row)\n",
    "        except:\n",
    "            print('item not found',name)        \n"
   ]
  },
  {
   "cell_type": "code",
   "execution_count": 82,
   "id": "77b0c8ea",
   "metadata": {},
   "outputs": [],
   "source": [
    "agplacedf.to_csv('wikiq.csv', index=False)"
   ]
  },
  {
   "cell_type": "code",
   "execution_count": null,
   "id": "e5dac031",
   "metadata": {},
   "outputs": [],
   "source": [
    "gdf = geopandas.GeoDataFrame(agplacedf, geometry=\"coords\")\n",
    "gdf.head()"
   ]
  },
  {
   "cell_type": "code",
   "execution_count": null,
   "id": "4addcd7c",
   "metadata": {},
   "outputs": [],
   "source": []
  },
  {
   "cell_type": "code",
   "execution_count": null,
   "id": "8ce70799",
   "metadata": {},
   "outputs": [],
   "source": [
    "# mapping"
   ]
  },
  {
   "cell_type": "code",
   "execution_count": 2,
   "id": "f73c8af6",
   "metadata": {},
   "outputs": [
    {
     "data": {
      "text/html": [
       "<div>\n",
       "<style scoped>\n",
       "    .dataframe tbody tr th:only-of-type {\n",
       "        vertical-align: middle;\n",
       "    }\n",
       "\n",
       "    .dataframe tbody tr th {\n",
       "        vertical-align: top;\n",
       "    }\n",
       "\n",
       "    .dataframe thead th {\n",
       "        text-align: right;\n",
       "    }\n",
       "</style>\n",
       "<table border=\"1\" class=\"dataframe\">\n",
       "  <thead>\n",
       "    <tr style=\"text-align: right;\">\n",
       "      <th></th>\n",
       "      <th>name</th>\n",
       "      <th>label</th>\n",
       "      <th>Acswords</th>\n",
       "      <th>long</th>\n",
       "      <th>lat</th>\n",
       "    </tr>\n",
       "  </thead>\n",
       "  <tbody>\n",
       "    <tr>\n",
       "      <th>0</th>\n",
       "      <td>Newton Abbot</td>\n",
       "      <td>Newton Abbot</td>\n",
       "      <td>A deputy of Mrs Wordsworth started a dancing e...</td>\n",
       "      <td>-3.608700</td>\n",
       "      <td>50.540300</td>\n",
       "    </tr>\n",
       "    <tr>\n",
       "      <th>1</th>\n",
       "      <td>East Croydon railway station</td>\n",
       "      <td>East Croydon railway station</td>\n",
       "      <td>Among our other activities at the weekend, Arc...</td>\n",
       "      <td>-0.092300</td>\n",
       "      <td>51.375200</td>\n",
       "    </tr>\n",
       "    <tr>\n",
       "      <th>2</th>\n",
       "      <td>Nippur</td>\n",
       "      <td>Nippur</td>\n",
       "      <td>I enjoyed the day at Nippur very much, though ...</td>\n",
       "      <td>45.230833</td>\n",
       "      <td>32.126111</td>\n",
       "    </tr>\n",
       "    <tr>\n",
       "      <th>3</th>\n",
       "      <td>Mersin</td>\n",
       "      <td>Mersin</td>\n",
       "      <td>I remember best going ashore with Max at Mersi...</td>\n",
       "      <td>34.616667</td>\n",
       "      <td>36.800000</td>\n",
       "    </tr>\n",
       "    <tr>\n",
       "      <th>4</th>\n",
       "      <td>Banbury</td>\n",
       "      <td>Banbury</td>\n",
       "      <td>I remember one day we made an excursion to Ban...</td>\n",
       "      <td>-1.339167</td>\n",
       "      <td>52.061389</td>\n",
       "    </tr>\n",
       "  </tbody>\n",
       "</table>\n",
       "</div>"
      ],
      "text/plain": [
       "                           name                         label  \\\n",
       "0                  Newton Abbot                  Newton Abbot   \n",
       "1  East Croydon railway station  East Croydon railway station   \n",
       "2                        Nippur                        Nippur   \n",
       "3                        Mersin                        Mersin   \n",
       "4                       Banbury                       Banbury   \n",
       "\n",
       "                                            Acswords       long        lat  \n",
       "0  A deputy of Mrs Wordsworth started a dancing e...  -3.608700  50.540300  \n",
       "1  Among our other activities at the weekend, Arc...  -0.092300  51.375200  \n",
       "2  I enjoyed the day at Nippur very much, though ...  45.230833  32.126111  \n",
       "3  I remember best going ashore with Max at Mersi...  34.616667  36.800000  \n",
       "4  I remember one day we made an excursion to Ban...  -1.339167  52.061389  "
      ]
     },
     "execution_count": 2,
     "metadata": {},
     "output_type": "execute_result"
    }
   ],
   "source": [
    "tdf = pd.read_csv('agquotes.csv', encoding='latin')\n",
    "tdf.head()"
   ]
  },
  {
   "cell_type": "code",
   "execution_count": 6,
   "id": "17df228c",
   "metadata": {},
   "outputs": [
    {
     "data": {
      "text/html": [
       "<div>\n",
       "<style scoped>\n",
       "    .dataframe tbody tr th:only-of-type {\n",
       "        vertical-align: middle;\n",
       "    }\n",
       "\n",
       "    .dataframe tbody tr th {\n",
       "        vertical-align: top;\n",
       "    }\n",
       "\n",
       "    .dataframe thead th {\n",
       "        text-align: right;\n",
       "    }\n",
       "</style>\n",
       "<table border=\"1\" class=\"dataframe\">\n",
       "  <thead>\n",
       "    <tr style=\"text-align: right;\">\n",
       "      <th></th>\n",
       "      <th>name</th>\n",
       "      <th>label</th>\n",
       "      <th>Agatha writes</th>\n",
       "      <th>long</th>\n",
       "      <th>lat</th>\n",
       "      <th>geometry</th>\n",
       "    </tr>\n",
       "  </thead>\n",
       "  <tbody>\n",
       "    <tr>\n",
       "      <th>0</th>\n",
       "      <td>Newton Abbot</td>\n",
       "      <td>Newton Abbot</td>\n",
       "      <td>A deputy of Mrs Wordsworth started a dancing e...</td>\n",
       "      <td>-3.608700</td>\n",
       "      <td>50.540300</td>\n",
       "      <td>POINT (-3.6087 50.5403)</td>\n",
       "    </tr>\n",
       "    <tr>\n",
       "      <th>1</th>\n",
       "      <td>East Croydon railway station</td>\n",
       "      <td>East Croydon railway station</td>\n",
       "      <td>Among our other activities at the weekend, Arc...</td>\n",
       "      <td>-0.092300</td>\n",
       "      <td>51.375200</td>\n",
       "      <td>POINT (-0.0923 51.3752)</td>\n",
       "    </tr>\n",
       "    <tr>\n",
       "      <th>2</th>\n",
       "      <td>Nippur</td>\n",
       "      <td>Nippur</td>\n",
       "      <td>I enjoyed the day at Nippur very much, though ...</td>\n",
       "      <td>45.230833</td>\n",
       "      <td>32.126111</td>\n",
       "      <td>POINT (45.23083 32.12611)</td>\n",
       "    </tr>\n",
       "    <tr>\n",
       "      <th>3</th>\n",
       "      <td>Mersin</td>\n",
       "      <td>Mersin</td>\n",
       "      <td>I remember best going ashore with Max at Mersi...</td>\n",
       "      <td>34.616667</td>\n",
       "      <td>36.800000</td>\n",
       "      <td>POINT (34.61667 36.8)</td>\n",
       "    </tr>\n",
       "    <tr>\n",
       "      <th>4</th>\n",
       "      <td>Banbury</td>\n",
       "      <td>Banbury</td>\n",
       "      <td>I remember one day we made an excursion to Ban...</td>\n",
       "      <td>-1.339167</td>\n",
       "      <td>52.061389</td>\n",
       "      <td>POINT (-1.33917 52.06139)</td>\n",
       "    </tr>\n",
       "  </tbody>\n",
       "</table>\n",
       "</div>"
      ],
      "text/plain": [
       "                           name                         label  \\\n",
       "0                  Newton Abbot                  Newton Abbot   \n",
       "1  East Croydon railway station  East Croydon railway station   \n",
       "2                        Nippur                        Nippur   \n",
       "3                        Mersin                        Mersin   \n",
       "4                       Banbury                       Banbury   \n",
       "\n",
       "                                       Agatha writes       long        lat  \\\n",
       "0  A deputy of Mrs Wordsworth started a dancing e...  -3.608700  50.540300   \n",
       "1  Among our other activities at the weekend, Arc...  -0.092300  51.375200   \n",
       "2  I enjoyed the day at Nippur very much, though ...  45.230833  32.126111   \n",
       "3  I remember best going ashore with Max at Mersi...  34.616667  36.800000   \n",
       "4  I remember one day we made an excursion to Ban...  -1.339167  52.061389   \n",
       "\n",
       "                    geometry  \n",
       "0    POINT (-3.6087 50.5403)  \n",
       "1    POINT (-0.0923 51.3752)  \n",
       "2  POINT (45.23083 32.12611)  \n",
       "3      POINT (34.61667 36.8)  \n",
       "4  POINT (-1.33917 52.06139)  "
      ]
     },
     "execution_count": 6,
     "metadata": {},
     "output_type": "execute_result"
    }
   ],
   "source": [
    "tdf=tdf.rename(columns = {'Acswords':'Agatha writes'})\n",
    "tgdf = geopandas.GeoDataFrame(\n",
    "    tdf, geometry=geopandas.points_from_xy(tdf.long, tdf.lat), crs=\"EPSG:4326\"\n",
    ")\n",
    "tgdf.head()"
   ]
  },
  {
   "cell_type": "code",
   "execution_count": 7,
   "id": "9ede0adb",
   "metadata": {},
   "outputs": [],
   "source": [
    "tgjson = tgdf.to_json()"
   ]
  },
  {
   "cell_type": "code",
   "execution_count": 36,
   "id": "477ba635",
   "metadata": {},
   "outputs": [
    {
     "data": {
      "text/plain": [
       "'{\"type\": \"FeatureCollection\", \"features\": [{\"id\": \"0\", \"type\": \"Feature\", \"properties\": {\"name\": \"Newton Abbot\", \"label\": \"Newton Abbot\", \"Acswords\": \"A deputy of Mrs Wordsworth started a dancing evening for adults at Newton Abbot, and I and others used to go over for instruction. There I made what I called \\\\u0091my Tango friend\\\\u0092\\\\u0096a young man whose Christian name was Ronald and whose last name I cannot remember. We rarely spoke to each other or took the least interest in each other\\\\u0096our whole mind was engrossed with our feet.\", \"long\": -3.6087, \"lat\": 50.5403}, \"geometry\": {\"type\": \"Point\", \"coordinates\": [-3.6087, 50.5403]}}, {\"id\": \"1\", \"type\": \"Feature\", \"properties\": {\"name\": \"East Croydon railway station\", \"label\": \"East Croydon railway station\", \"Acswords\": \"Among our other activities at the weekend, Archie and I sometimes went by train to East Croydon and played golf there. I had never been much of a golfer, and Archie had played little, but he became keenly appreciative of the game. After a while, we seemed to go every weekend to East Croydon. I did not really mind, but I missed the variety of exploring places and going long walks. In the end that choice of recreation was to make a big difference to our lives.\", \"long\": -0.0923, \"lat\": 51.3752}, \"geometry\": {\"type\": \"Point\", \"coordinates\": [-0.0923, 51.3752]}}, {\"id\": \"2\", \"type\": \"Feature\", \"properties\": {\"name\": \"Nippur\", \"label\": \"Nippur\", \"Acswords\": \"I enjoyed the day at Nippur very much, though it was extremely exhausting. We motored for hours over rough ground, and walked round what seemed acres of excavations. I don\\\\u0092t suppose I would have found it very interesting had I not had someone with me to explain it all. As it was I became more enamoured of digging than ever.\", \"long\": 45.23083333, \"lat\": 32.12611111}, \"geometry\": {\"type\": \"Point\", \"coordinates\": [45.23083333, 32.12611111]}}, {\"id\": \"3\", \"type\": \"Feature\", \"properties\": {\"name\": \"Mersin\", \"label\": \"Mersin\", \"Acswords\": \"I remember best going ashore with Max at Mersin, and spending a happy day on the beach, bathing in a glorious warm sea. It was on that day that he picked me enormous quantities of yellow marigolds. I made them into a chain and he hung them around my neck, and we had a picnic lunch in the midst of a great sea of yellow marigolds.\", \"long\": 34.61666667, \"lat\": 36.8}, \"geometry\": {\"type\": \"Point\", \"coordinates\": [34.61666667, 36.8]}}, {\"id\": \"4\", \"type\": \"Feature\", \"properties\": {\"name\": \"Banbury\", \"label\": \"Banbury\", \"Acswords\": \"I remember one day we made an excursion to Banbury. Starting out was rather like equipping an expedition to the North Pole.\", \"long\": -1.339166667, \"lat\": 52.06138889}, \"geometry\": {\"type\": \"Point\", \"coordinates\": [-1.339166667, 52.06138889]}}, {\"id\": \"5\", \"type\": \"Feature\", \"properties\": {\"name\": \"Sunningdale\", \"label\": \"Sunningdale\", \"Acswords\": \"I was making friends in Sunningdale, but Sunningdale society was mainly of two kinds: the middle aged, who were passionately fond of gardens and talked of practically nothing else; or the gay, sporting rich, who drank a good deal, had cocktail parties, and were not really my type, or indeed, for that matter, Archie\\\\u0092s.\", \"long\": -0.626, \"lat\": 51.398}, \"geometry\": {\"type\": \"Point\", \"coordinates\": [-0.626, 51.398]}}, {\"id\": \"6\", \"type\": \"Feature\", \"properties\": {\"name\": \"Paddington\", \"label\": \"London Paddington station\", \"Acswords\": \"I went down for a weekend to Rosalind in Wales and came back by a late train on the Sunday night. It was one of those trains one had so often to endure in wartime, freezing cold, and of course when one got to Paddington there was no means of getting anywhere. I took some complicated train which finally landed me at a station in Hampstead not too far away from Lawn Road Flats, and from there I walked home, carrying some kippers and my suitcase.\", \"long\": -0.177222222, \"lat\": 51.51666667}, \"geometry\": {\"type\": \"Point\", \"coordinates\": [-0.177222222, 51.51666667]}}, {\"id\": \"7\", \"type\": \"Feature\", \"properties\": {\"name\": \"Florence\", \"label\": \"Florence\", \"Acswords\": \"I went sightseeing into Florence every day. Sometimes Stengel went with me, but more often a young Italian woman engaged by May came up to Fiesole and escorted me into the town. Young girls had to be even more carefully chaperoned in Italy than in France, and indeed I suffered all the discomforts of being pinched in trams by ardent young men\\\\u0096most painful. It was then that I had been subjected to so large a dose of picture galleries and museums. Greedy as ever, what I looked forward to was the delicious meal in a patisserie before catching the tram back to Fiesole.\", \"long\": 11.25416667, \"lat\": 43.77138889}, \"geometry\": {\"type\": \"Point\", \"coordinates\": [11.25416667, 43.77138889]}}, {\"id\": \"8\", \"type\": \"Feature\", \"properties\": {\"name\": \"Cauterets\", \"label\": \"Cauterets\", \"Acswords\": \"In the early summer it grew hot in Pau, and we left, spending a week at Argeles and another at Lourdes, then moving up to Cauterets in the Pyrenees. This was a delightful spot, right at the foot of the mountains. (I had got over my disappointment about mountains now, but although the position at Cauterets was more satisfactory you could not really look a long way up. Every morning we had a walk along a mountain path which led to the spa, where we all drank glasses of nasty water. Having thus improved our health we purchased a stick of sucre d\\\\u0092orge. Mother\\\\u0092s favourite was aniseed, which I could not bear. On the zigzag paths by the hotel I soon discovered a delightful sport. This was to toboggan down through the pine trees on the seat of my pants. Marie took a poor view of this, but I am sorry to say that from the first Marie was never able to exert any authority over me.\", \"long\": -0.113611111, \"lat\": 42.88916667}, \"geometry\": {\"type\": \"Point\", \"coordinates\": [-0.113611111, 42.88916667]}}, {\"id\": \"9\", \"type\": \"Feature\", \"properties\": {\"name\": \"Haydarpa?a\", \"label\": \"Haidar Pasha\", \"Acswords\": \"Next day I was called on by Cook\\\\u0092s representatives in the most conventional fashion, and taken across the Bosphorus to Haidar Pasha, where I resumed my journey on the Orient Express. I was glad to have my guide with me, for anything more like a lunatic asylum than Haidar Pasha Station cannot be imagined. Everyone shouted, screamed, thumped, and demanded the attention of the Customs Officer.\", \"long\": 29.01666667, \"lat\": 41.0}, \"geometry\": {\"type\": \"Point\", \"coordinates\": [29.01666667, 41.0]}}, {\"id\": \"10\", \"type\": \"Feature\", \"properties\": {\"name\": \"Haslemere\", \"label\": \"Haslemere\", \"Acswords\": \"Once or twice I went down to stay with Francis Sullivan, the actor, and his wife. They had a house at Haslemere, with Spanish chestnut woods all round it. I always found it restful to stay with actors in wartime, because to them, acting and the theatrical world were the real world, any other world was not. The war to them was a long drawn-out nightmare that prevented them from going on with their own lives, in the proper way, so their entire talk was of theatrical people, theatrical things, what was going on in the theatrical world, who was going into E.N.S.A.\\\\u0096it was wonderfully refreshing.\", \"long\": -0.7117, \"lat\": 51.0899}, \"geometry\": {\"type\": \"Point\", \"coordinates\": [-0.7117, 51.0899]}}, {\"id\": \"11\", \"type\": \"Feature\", \"properties\": {\"name\": \"Churston Ferrers\", \"label\": \"Churston Ferrers\", \"Acswords\": \"One thing that gave me particular pleasure was writing a story\\\\u0096a long-short I think they call it: something between a book and a short story\\\\u0096the proceeds of which went to put a stained glass window in my local church at Churston Ferrers. It is a beautiful little church and the plain glass east window always gaped at me like a gap in teeth. I looked at it every Sunday and used to think how lovely it would look in pale colours. I knew nothing about stained glass, and I had a most difficult time visiting studios and getting different sketches made by stained glass artists. It was narrowed down in the end to a glass artist called Patterson, who lived in Bideford and who sent me a design for a window that I really admired very much\\\\u0096particularly his colours, which were not the ordinary red and blue but predominantly mauve and pale green, my favourite ones. I wanted the central figure to be the Good Shepherd. I had a little difficulty over this with the Diocese of Exeter, and, I may say, with Mr Patterson; both insisting that the central pattern of an east window had to be the Crucifixion. However, the Diocese, on making some research into the matter, agreed that I could have Jesus as the Good Shepherd, since it was a pastoral parish. I wanted this to be a happy window which children could look at with pleasure. So in the centre is the Good Shepherd with His lamb, and the other panels are the manger and the Virgin with the Child, the angels appearing to the shepherds in the field, the fishermen in their boat with their nets, and the Figure walking on the sea. They are all the simpler scenes of the Gospel story, and I love it and enjoy looking at it on Sundays. Mr Patterson has made a fine window. It will, I think, stand the test of the centuries because it is simple. I am both proud and humble that I have been permitted to offer it with the proceeds of my work.\", \"long\": -3.557, \"lat\": 50.4}, \"geometry\": {\"type\": \"Point\", \"coordinates\": [-3.557, 50.4]}}, {\"id\": \"12\", \"type\": \"Feature\", \"properties\": {\"name\": \"Fiesole\", \"label\": \"Fiesole\", \"Acswords\": \"Stengel, May\\\\u0092s maid, met me in Florence, and we went up together in the tram to Fiesole. It was inexpressibly beautiful on that day. All the early almond and peach blossom was out, delicate white and pink on the bare branches of the trees.\", \"long\": 11.3, \"lat\": 43.8}, \"geometry\": {\"type\": \"Point\", \"coordinates\": [11.3, 43.8]}}, {\"id\": \"13\", \"type\": \"Feature\", \"properties\": {\"name\": \"Balkans\", \"label\": \"Balkans\", \"Acswords\": \"The journey was all that I had hoped for. After Trieste we went through Yugoslavia and the Balkans, and there was all the fascination of looking out at an entirely different world\", \"long\": 22.0, \"lat\": 42.0}, \"geometry\": {\"type\": \"Point\", \"coordinates\": [22.0, 42.0]}}, {\"id\": \"14\", \"type\": \"Feature\", \"properties\": {\"name\": \"University College Hospital\", \"label\": \"University College Hospital\", \"Acswords\": \"The majority of patients in the out-patient department at University College Hospital, where I worked in 1948, were particular as to the exact colour and taste of their preparations. I remember an old Irish woman who leant into the dispensary window, pressed half-a-crown into my palm, and murmured: \\\\u0091Make it double strong, dearie, will you? Plenty of peppermint, double strong.\\\\u0092 I returned her the half-a-crown, saying priggishly that we didn\\\\u0092t accept that sort of thing, and added that she had to have the medicine exactly as the doctor had ordered it. I did, however, give her an extra dollop of peppermint water, since it could not possibly do her any harm and she enjoyed it so much.\", \"long\": -0.134397222, \"lat\": 51.52524167}, \"geometry\": {\"type\": \"Point\", \"coordinates\": [-0.134397222, 51.52524167]}}, {\"id\": \"15\", \"type\": \"Feature\", \"properties\": {\"name\": \"Torbay Yacht Club\", \"label\": \"Torbay\", \"Acswords\": \"The Torbay Yacht Club was stationed on Beacon Terrace, just above the Ladies\\\\u0092 Bathing-Cove. Although the beach was properly invisible from the Club windows, the sea around the raft was not, and, according to my father, a good many of the gentlemen spent their time with opera glasses enjoying the sight of female figures displayed in what they hopefully thought of as almost a state of nudity! I don\\\\u0092t think we can have been sexually very appealing in those shapeless garments.\", \"long\": -3.523893, \"lat\": 50.458267}, \"geometry\": {\"type\": \"Point\", \"coordinates\": [-3.523893, 50.458267]}}, {\"id\": \"16\", \"type\": \"Feature\", \"properties\": {\"name\": \"Torquay\", \"label\": \"Torquay\", \"Acswords\": \"Torquay was then the Riviera of England, and people paid large rents for furnished villas there, during quite a gay winter season with concerts in the afternoons, lectures, occasional dances, and a great deal of other social activity.\", \"long\": -3.528055556, \"lat\": 50.4625}, \"geometry\": {\"type\": \"Point\", \"coordinates\": [-3.528055556, 50.4625]}}, {\"id\": \"17\", \"type\": \"Feature\", \"properties\": {\"name\": \"British Museum\", \"label\": \"British Museum\", \"Acswords\": \"We came home to England, flushed with triumph, and Max began a busy summer writing up his account of the campaign. We had an exhibition at the British Museum of some of our finds; and Max\\\\u0092s book on Arpachiyah came out either that year or the next\", \"long\": -0.126944444, \"lat\": 51.51944444}, \"geometry\": {\"type\": \"Point\", \"coordinates\": [-0.126944444, 51.51944444]}}, {\"id\": \"18\", \"type\": \"Feature\", \"properties\": {\"name\": \"Nineveh\", \"label\": \"Nineveh\", \"Acswords\": \"We drove off to the house that the Campbell-Thompsons had taken, near the big mound of Nineveh. It was a mile and a half out of Mosul, and altogether charming\\\\u0096one that I shall always think of with love and affection. It had a flat roof with a square tower room on one side of it, and a handsome marble porch. Max and I had the upstairs room. It was sparsely furnished, mainly with orange boxes, and had two camp-beds. All round the little house was a mass of rose bushes. They had lots of pink rose-buds on them when we arrived. Tomorrow morning, I thought, the roses will be fully out; how lovely they will look. But no, next morning they were rose-buds still. This phenomenon of nature I could not understand\\\\u0096a rose is surely not a night-blooming cereus\\\\u0096but the truth was that these were grown for making ottar of roses and men came at four o\\\\u0092clock in the morning to pick them as they opened. By daybreak, the next crop of buds was all that remained.\", \"long\": 43.15, \"lat\": 36.366667}, \"geometry\": {\"type\": \"Point\", \"coordinates\": [43.15, 36.366667]}}, {\"id\": \"19\", \"type\": \"Feature\", \"properties\": {\"name\": \"Addison Road\", \"label\": \"Addison Road\", \"Acswords\": \"We found a flat, rather luckily, quite soon. It was on the ground floor of Addison Mansions, which were two big blocks of buildings situated behind Olympia. It was a big flat, four bedrooms and two sitting-rooms. We took it furnished for five guineas a week. The woman who let it to us was a terrifically peroxided blonde of forty-five, with an immense swelling bust. She was very friendly and insisted on telling me a lot about her daughter\\\\u0092s internal ailments. The flat was filled with particularly hideous furniture, and had some of the most sentimental pictures I have ever seen. I made a mental note that the first thing Archie and I would do would be to take them down and stack them tidily to await the owner\\\\u0092s return. There was plenty of china and glass and all that kind of thing, including one egg-shell tea-set which frightened me because I thought it so fragile that it was sure to get broken. With Lucy\\\\u0092s aid, we stored it away in one of the cupboards as soon as we arrived.\", \"long\": -0.20932, \"lat\": 51.5025}, \"geometry\": {\"type\": \"Point\", \"coordinates\": [-0.20932, 51.5025]}}, {\"id\": \"20\", \"type\": \"Feature\", \"properties\": {\"name\": \"Honolulu\", \"label\": \"Honolulu\", \"Acswords\": \"We had a lazy voyage, stopping at Fiji and other islands, and finally arrived at Honolulu. It was far more sophisticated than we had imagined with masses of hotels and roads and motor-cars. We arrived in the early morning, got into our rooms at the hotel, and straight away, seeing out of the window the people surfing on the beach, we rushed down, hired our surf-boards, and plunged into the sea. We were, of course, complete innocents. It was a bad day for surfing\\\\u0096one of the days when only the experts go in\\\\u0096but we, who had surfed in South Africa, thought we knew all about it. It is very different in Honolulu. Your board, for instance, is a great slab of wood, almost too heavy to lift. You lie on it, and slowly paddle yourself out towards the reef, which is\\\\u0096or so it seemed to me\\\\u0096about a mile away. Then, when you have finally got there, you arrange yourself in position and wait for the proper kind of wave to come and shoot you through the sea to the shore. This is not so easy as it looks. First you have to recognise the proper wave when it comes, and secondly, even more important, you have to know the wrong wave when it comes, because if that catches you and forces you down to the bottom, Heaven help you!\", \"long\": -157.8572222, \"lat\": 21.30472222}, \"geometry\": {\"type\": \"Point\", \"coordinates\": [-157.8572222, 21.30472222]}}, {\"id\": \"21\", \"type\": \"Feature\", \"properties\": {\"name\": \"Isfahan\", \"label\": \"Isfahan\", \"Acswords\": \"We resumed our drive, and arrived, rather weary, in Isfahan, and Isfahan, from that time forward, has been listed by me as the most beautiful city in the world. Never have I seen anything like its glorious colours, of rose, blue and gold\\\\u0096the flowers, birds, arabesques, lovely fairy-tale buildings, and everywhere beautiful coloured tiles\\\\u0096yes, a fairyland city. After I saw it that first time I did not visit it again for nearly twenty years, and I was terrified to go there then because I thought it would be completely different. Fortunately it had changed very little. Naturally there were more modern streets, and a few slightly more modern shops, but the noble Islamic buildings, the courts, the tiles and the fountains\\\\u0096they were all there still. The people were less fanatical by this time, and one could visit many of the interiors of the mosques which were inaccessible before.\", \"long\": 51.67472222, \"lat\": 32.6525}, \"geometry\": {\"type\": \"Point\", \"coordinates\": [51.67472222, 32.6525]}}, {\"id\": \"22\", \"type\": \"Feature\", \"properties\": {\"name\": \"Abney Hall\", \"label\": \"Abney Hall\", \"Acswords\": \"We spent Christmas at Abney Hall, with the old Wattses and their four children and Jack. It was a wonderful house to have Christmas in if you were a child. Not only was it enormous Victorian Gothic, with quantities of rooms, passages, unexpected steps, back staircases, front staircases, alcoves, niches\\\\u0096everything in the world that a child could want\\\\u0096but it also had three different pianos that you could play, as well as an organ. All it lacked was the light of day; it was remarkably dark, except for the big drawing-room with its green satin walls and its big windows\", \"long\": -2.21126, \"lat\": 53.3995}, \"geometry\": {\"type\": \"Point\", \"coordinates\": [-2.21126, 53.3995]}}, {\"id\": \"23\", \"type\": \"Feature\", \"properties\": {\"name\": \"Yanga National Park\", \"label\": \"Yanga National Park\", \"Acswords\": \"We stayed in New South Wales at a station called, I think, Yanga, where I remember a great lake with black swans sailing on it. It was a lovely picture. Here, while Belcher and Archie were busy putting forth the claims of the British Empire, migration within the Empire, the importance of trade within the Empire, and so on and so forth, I was allowed to spend a happy day sitting in the orange groves. I had a nice long deck-chair, there was delicious sunshine, and as far as I remember I ate twenty-three oranges\\\\u0096carefully selecting the very best from the trees round me. Ripe oranges plucked straight from the trees, are the most delicious things you can imagine.\", \"long\": 143.583, \"lat\": -34.65}, \"geometry\": {\"type\": \"Point\", \"coordinates\": [143.583, -34.65]}}, {\"id\": \"24\", \"type\": \"Feature\", \"properties\": {\"name\": \"Livingstone\", \"label\": \"Livingstone\", \"Acswords\": \"We went to Livingstone and saw the crocodiles swimming about, and the hippopotami. From the train journey I brought back carved wooden animals, held up at various stations by little native boys, asking three-pence or sixpence for them. They were delightful. I still have several of them, carved in soft wood and marked, I suppose, with a hot poker: elands, giraffes, hippopotami, zebras\\\\u0096simple, crude, and with a great charm and grace of their own.\", \"long\": 25.86666667, \"lat\": -17.85}, \"geometry\": {\"type\": \"Point\", \"coordinates\": [25.86666667, -17.85]}}]}'"
      ]
     },
     "execution_count": 36,
     "metadata": {},
     "output_type": "execute_result"
    }
   ],
   "source": [
    "tgjson"
   ]
  },
  {
   "cell_type": "code",
   "execution_count": 8,
   "id": "cc097518",
   "metadata": {},
   "outputs": [
    {
     "data": {
      "text/html": [
       "<div style=\"width:100%;\"><div style=\"position:relative;width:100%;height:0;padding-bottom:60%;\"><span style=\"color:#565656\">Make this Notebook Trusted to load map: File -> Trust Notebook</span><iframe srcdoc=\"&lt;!DOCTYPE html&gt;\n",
       "&lt;html&gt;\n",
       "&lt;head&gt;\n",
       "    \n",
       "    &lt;meta http-equiv=&quot;content-type&quot; content=&quot;text/html; charset=UTF-8&quot; /&gt;\n",
       "    \n",
       "        &lt;script&gt;\n",
       "            L_NO_TOUCH = false;\n",
       "            L_DISABLE_3D = false;\n",
       "        &lt;/script&gt;\n",
       "    \n",
       "    &lt;style&gt;html, body {width: 100%;height: 100%;margin: 0;padding: 0;}&lt;/style&gt;\n",
       "    &lt;style&gt;#map {position:absolute;top:0;bottom:0;right:0;left:0;}&lt;/style&gt;\n",
       "    &lt;script src=&quot;https://cdn.jsdelivr.net/npm/leaflet@1.9.3/dist/leaflet.js&quot;&gt;&lt;/script&gt;\n",
       "    &lt;script src=&quot;https://code.jquery.com/jquery-3.7.1.min.js&quot;&gt;&lt;/script&gt;\n",
       "    &lt;script src=&quot;https://cdn.jsdelivr.net/npm/bootstrap@5.2.2/dist/js/bootstrap.bundle.min.js&quot;&gt;&lt;/script&gt;\n",
       "    &lt;script src=&quot;https://cdnjs.cloudflare.com/ajax/libs/Leaflet.awesome-markers/2.0.2/leaflet.awesome-markers.js&quot;&gt;&lt;/script&gt;\n",
       "    &lt;link rel=&quot;stylesheet&quot; href=&quot;https://cdn.jsdelivr.net/npm/leaflet@1.9.3/dist/leaflet.css&quot;/&gt;\n",
       "    &lt;link rel=&quot;stylesheet&quot; href=&quot;https://cdn.jsdelivr.net/npm/bootstrap@5.2.2/dist/css/bootstrap.min.css&quot;/&gt;\n",
       "    &lt;link rel=&quot;stylesheet&quot; href=&quot;https://netdna.bootstrapcdn.com/bootstrap/3.0.0/css/bootstrap-glyphicons.css&quot;/&gt;\n",
       "    &lt;link rel=&quot;stylesheet&quot; href=&quot;https://cdn.jsdelivr.net/npm/@fortawesome/fontawesome-free@6.2.0/css/all.min.css&quot;/&gt;\n",
       "    &lt;link rel=&quot;stylesheet&quot; href=&quot;https://cdnjs.cloudflare.com/ajax/libs/Leaflet.awesome-markers/2.0.2/leaflet.awesome-markers.css&quot;/&gt;\n",
       "    &lt;link rel=&quot;stylesheet&quot; href=&quot;https://cdn.jsdelivr.net/gh/python-visualization/folium/folium/templates/leaflet.awesome.rotate.min.css&quot;/&gt;\n",
       "    \n",
       "            &lt;meta name=&quot;viewport&quot; content=&quot;width=device-width,\n",
       "                initial-scale=1.0, maximum-scale=1.0, user-scalable=no&quot; /&gt;\n",
       "            &lt;style&gt;\n",
       "                #map_882b137168f4912bb15345a3e2bd765b {\n",
       "                    position: relative;\n",
       "                    width: 100.0%;\n",
       "                    height: 100.0%;\n",
       "                    left: 0.0%;\n",
       "                    top: 0.0%;\n",
       "                }\n",
       "                .leaflet-container { font-size: 1rem; }\n",
       "            &lt;/style&gt;\n",
       "        \n",
       "&lt;/head&gt;\n",
       "&lt;body&gt;\n",
       "    \n",
       "    \n",
       "            &lt;div class=&quot;folium-map&quot; id=&quot;map_882b137168f4912bb15345a3e2bd765b&quot; &gt;&lt;/div&gt;\n",
       "        \n",
       "&lt;/body&gt;\n",
       "&lt;script&gt;\n",
       "    \n",
       "    \n",
       "            var map_882b137168f4912bb15345a3e2bd765b = L.map(\n",
       "                &quot;map_882b137168f4912bb15345a3e2bd765b&quot;,\n",
       "                {\n",
       "                    center: [-0.20932, 51.5025],\n",
       "                    crs: L.CRS.EPSG3857,\n",
       "                    ...{\n",
       "  &quot;zoom&quot;: 10,\n",
       "  &quot;zoomControl&quot;: false,\n",
       "  &quot;preferCanvas&quot;: false,\n",
       "}\n",
       "\n",
       "                }\n",
       "            );\n",
       "\n",
       "            \n",
       "\n",
       "        \n",
       "    \n",
       "            var tile_layer_372ecdb3ffa909c18946d9228180454f = L.tileLayer(\n",
       "                &quot;https://tile.openstreetmap.org/{z}/{x}/{y}.png&quot;,\n",
       "                {\n",
       "  &quot;minZoom&quot;: 0,\n",
       "  &quot;maxZoom&quot;: 19,\n",
       "  &quot;maxNativeZoom&quot;: 19,\n",
       "  &quot;noWrap&quot;: false,\n",
       "  &quot;attribution&quot;: &quot;\\u0026copy; \\u003ca href=\\&quot;https://www.openstreetmap.org/copyright\\&quot;\\u003eOpenStreetMap\\u003c/a\\u003e contributors&quot;,\n",
       "  &quot;subdomains&quot;: &quot;abc&quot;,\n",
       "  &quot;detectRetina&quot;: false,\n",
       "  &quot;tms&quot;: false,\n",
       "  &quot;opacity&quot;: 1,\n",
       "}\n",
       "\n",
       "            );\n",
       "        \n",
       "    \n",
       "            tile_layer_372ecdb3ffa909c18946d9228180454f.addTo(map_882b137168f4912bb15345a3e2bd765b);\n",
       "        \n",
       "    \n",
       "        function geo_json_2938dfd01aafec322079a555f5c5761d_styler(feature) {\n",
       "            switch(feature.id) {\n",
       "                default:\n",
       "                    return {&quot;color&quot;: &quot;#fcfcfc&quot;, &quot;fillColor&quot;: &quot;#020202&quot;, &quot;fillOpacity&quot;: 0.8, &quot;weight&quot;: 1};\n",
       "            }\n",
       "        }\n",
       "\n",
       "        function geo_json_2938dfd01aafec322079a555f5c5761d_onEachFeature(feature, layer) {\n",
       "            layer.on({\n",
       "            });\n",
       "        };\n",
       "        var geo_json_2938dfd01aafec322079a555f5c5761d = L.geoJson(null, {\n",
       "                onEachFeature: geo_json_2938dfd01aafec322079a555f5c5761d_onEachFeature,\n",
       "            \n",
       "                style: geo_json_2938dfd01aafec322079a555f5c5761d_styler,\n",
       "            ...{\n",
       "}\n",
       "        });\n",
       "\n",
       "        function geo_json_2938dfd01aafec322079a555f5c5761d_add (data) {\n",
       "            geo_json_2938dfd01aafec322079a555f5c5761d\n",
       "                .addData(data);\n",
       "        }\n",
       "            geo_json_2938dfd01aafec322079a555f5c5761d_add({&quot;features&quot;: [{&quot;geometry&quot;: {&quot;coordinates&quot;: [-3.6087, 50.5403], &quot;type&quot;: &quot;Point&quot;}, &quot;id&quot;: &quot;0&quot;, &quot;properties&quot;: {&quot;Agatha writes&quot;: &quot;A deputy of Mrs Wordsworth started a dancing evening for adults at Newton Abbot, and I and others used to go over for instruction. There I made what I called \\u0091my Tango friend\\u0092\\u0096a young man whose Christian name was Ronald and whose last name I cannot remember. We rarely spoke to each other or took the least interest in each other\\u0096our whole mind was engrossed with our feet.&quot;, &quot;label&quot;: &quot;Newton Abbot&quot;, &quot;lat&quot;: 50.5403, &quot;long&quot;: -3.6087, &quot;name&quot;: &quot;Newton Abbot&quot;}, &quot;type&quot;: &quot;Feature&quot;}, {&quot;geometry&quot;: {&quot;coordinates&quot;: [-0.0923, 51.3752], &quot;type&quot;: &quot;Point&quot;}, &quot;id&quot;: &quot;1&quot;, &quot;properties&quot;: {&quot;Agatha writes&quot;: &quot;Among our other activities at the weekend, Archie and I sometimes went by train to East Croydon and played golf there. I had never been much of a golfer, and Archie had played little, but he became keenly appreciative of the game. After a while, we seemed to go every weekend to East Croydon. I did not really mind, but I missed the variety of exploring places and going long walks. In the end that choice of recreation was to make a big difference to our lives.&quot;, &quot;label&quot;: &quot;East Croydon railway station&quot;, &quot;lat&quot;: 51.3752, &quot;long&quot;: -0.0923, &quot;name&quot;: &quot;East Croydon railway station&quot;}, &quot;type&quot;: &quot;Feature&quot;}, {&quot;geometry&quot;: {&quot;coordinates&quot;: [45.23083333, 32.12611111], &quot;type&quot;: &quot;Point&quot;}, &quot;id&quot;: &quot;2&quot;, &quot;properties&quot;: {&quot;Agatha writes&quot;: &quot;I enjoyed the day at Nippur very much, though it was extremely exhausting. We motored for hours over rough ground, and walked round what seemed acres of excavations. I don\\u0092t suppose I would have found it very interesting had I not had someone with me to explain it all. As it was I became more enamoured of digging than ever.&quot;, &quot;label&quot;: &quot;Nippur&quot;, &quot;lat&quot;: 32.12611111, &quot;long&quot;: 45.23083333, &quot;name&quot;: &quot;Nippur&quot;}, &quot;type&quot;: &quot;Feature&quot;}, {&quot;geometry&quot;: {&quot;coordinates&quot;: [34.61666667, 36.8], &quot;type&quot;: &quot;Point&quot;}, &quot;id&quot;: &quot;3&quot;, &quot;properties&quot;: {&quot;Agatha writes&quot;: &quot;I remember best going ashore with Max at Mersin, and spending a happy day on the beach, bathing in a glorious warm sea. It was on that day that he picked me enormous quantities of yellow marigolds. I made them into a chain and he hung them around my neck, and we had a picnic lunch in the midst of a great sea of yellow marigolds.&quot;, &quot;label&quot;: &quot;Mersin&quot;, &quot;lat&quot;: 36.8, &quot;long&quot;: 34.61666667, &quot;name&quot;: &quot;Mersin&quot;}, &quot;type&quot;: &quot;Feature&quot;}, {&quot;geometry&quot;: {&quot;coordinates&quot;: [-1.339166667, 52.06138889], &quot;type&quot;: &quot;Point&quot;}, &quot;id&quot;: &quot;4&quot;, &quot;properties&quot;: {&quot;Agatha writes&quot;: &quot;I remember one day we made an excursion to Banbury. Starting out was rather like equipping an expedition to the North Pole.&quot;, &quot;label&quot;: &quot;Banbury&quot;, &quot;lat&quot;: 52.06138889, &quot;long&quot;: -1.339166667, &quot;name&quot;: &quot;Banbury&quot;}, &quot;type&quot;: &quot;Feature&quot;}, {&quot;geometry&quot;: {&quot;coordinates&quot;: [-0.626, 51.398], &quot;type&quot;: &quot;Point&quot;}, &quot;id&quot;: &quot;5&quot;, &quot;properties&quot;: {&quot;Agatha writes&quot;: &quot;I was making friends in Sunningdale, but Sunningdale society was mainly of two kinds: the middle aged, who were passionately fond of gardens and talked of practically nothing else; or the gay, sporting rich, who drank a good deal, had cocktail parties, and were not really my type, or indeed, for that matter, Archie\\u0092s.&quot;, &quot;label&quot;: &quot;Sunningdale&quot;, &quot;lat&quot;: 51.398, &quot;long&quot;: -0.626, &quot;name&quot;: &quot;Sunningdale&quot;}, &quot;type&quot;: &quot;Feature&quot;}, {&quot;geometry&quot;: {&quot;coordinates&quot;: [-0.177222222, 51.51666667], &quot;type&quot;: &quot;Point&quot;}, &quot;id&quot;: &quot;6&quot;, &quot;properties&quot;: {&quot;Agatha writes&quot;: &quot;I went down for a weekend to Rosalind in Wales and came back by a late train on the Sunday night. It was one of those trains one had so often to endure in wartime, freezing cold, and of course when one got to Paddington there was no means of getting anywhere. I took some complicated train which finally landed me at a station in Hampstead not too far away from Lawn Road Flats, and from there I walked home, carrying some kippers and my suitcase.&quot;, &quot;label&quot;: &quot;London Paddington station&quot;, &quot;lat&quot;: 51.51666667, &quot;long&quot;: -0.177222222, &quot;name&quot;: &quot;Paddington&quot;}, &quot;type&quot;: &quot;Feature&quot;}, {&quot;geometry&quot;: {&quot;coordinates&quot;: [11.25416667, 43.77138889], &quot;type&quot;: &quot;Point&quot;}, &quot;id&quot;: &quot;7&quot;, &quot;properties&quot;: {&quot;Agatha writes&quot;: &quot;I went sightseeing into Florence every day. Sometimes Stengel went with me, but more often a young Italian woman engaged by May came up to Fiesole and escorted me into the town. Young girls had to be even more carefully chaperoned in Italy than in France, and indeed I suffered all the discomforts of being pinched in trams by ardent young men\\u0096most painful. It was then that I had been subjected to so large a dose of picture galleries and museums. Greedy as ever, what I looked forward to was the delicious meal in a patisserie before catching the tram back to Fiesole.&quot;, &quot;label&quot;: &quot;Florence&quot;, &quot;lat&quot;: 43.77138889, &quot;long&quot;: 11.25416667, &quot;name&quot;: &quot;Florence&quot;}, &quot;type&quot;: &quot;Feature&quot;}, {&quot;geometry&quot;: {&quot;coordinates&quot;: [-0.113611111, 42.88916667], &quot;type&quot;: &quot;Point&quot;}, &quot;id&quot;: &quot;8&quot;, &quot;properties&quot;: {&quot;Agatha writes&quot;: &quot;In the early summer it grew hot in Pau, and we left, spending a week at Argeles and another at Lourdes, then moving up to Cauterets in the Pyrenees. This was a delightful spot, right at the foot of the mountains. (I had got over my disappointment about mountains now, but although the position at Cauterets was more satisfactory you could not really look a long way up. Every morning we had a walk along a mountain path which led to the spa, where we all drank glasses of nasty water. Having thus improved our health we purchased a stick of sucre d\\u0092orge. Mother\\u0092s favourite was aniseed, which I could not bear. On the zigzag paths by the hotel I soon discovered a delightful sport. This was to toboggan down through the pine trees on the seat of my pants. Marie took a poor view of this, but I am sorry to say that from the first Marie was never able to exert any authority over me.&quot;, &quot;label&quot;: &quot;Cauterets&quot;, &quot;lat&quot;: 42.88916667, &quot;long&quot;: -0.113611111, &quot;name&quot;: &quot;Cauterets&quot;}, &quot;type&quot;: &quot;Feature&quot;}, {&quot;geometry&quot;: {&quot;coordinates&quot;: [29.01666667, 41.0], &quot;type&quot;: &quot;Point&quot;}, &quot;id&quot;: &quot;9&quot;, &quot;properties&quot;: {&quot;Agatha writes&quot;: &quot;Next day I was called on by Cook\\u0092s representatives in the most conventional fashion, and taken across the Bosphorus to Haidar Pasha, where I resumed my journey on the Orient Express. I was glad to have my guide with me, for anything more like a lunatic asylum than Haidar Pasha Station cannot be imagined. Everyone shouted, screamed, thumped, and demanded the attention of the Customs Officer.&quot;, &quot;label&quot;: &quot;Haidar Pasha&quot;, &quot;lat&quot;: 41.0, &quot;long&quot;: 29.01666667, &quot;name&quot;: &quot;Haydarpa?a&quot;}, &quot;type&quot;: &quot;Feature&quot;}, {&quot;geometry&quot;: {&quot;coordinates&quot;: [-0.7117, 51.0899], &quot;type&quot;: &quot;Point&quot;}, &quot;id&quot;: &quot;10&quot;, &quot;properties&quot;: {&quot;Agatha writes&quot;: &quot;Once or twice I went down to stay with Francis Sullivan, the actor, and his wife. They had a house at Haslemere, with Spanish chestnut woods all round it. I always found it restful to stay with actors in wartime, because to them, acting and the theatrical world were the real world, any other world was not. The war to them was a long drawn-out nightmare that prevented them from going on with their own lives, in the proper way, so their entire talk was of theatrical people, theatrical things, what was going on in the theatrical world, who was going into E.N.S.A.\\u0096it was wonderfully refreshing.&quot;, &quot;label&quot;: &quot;Haslemere&quot;, &quot;lat&quot;: 51.0899, &quot;long&quot;: -0.7117, &quot;name&quot;: &quot;Haslemere&quot;}, &quot;type&quot;: &quot;Feature&quot;}, {&quot;geometry&quot;: {&quot;coordinates&quot;: [-3.557, 50.4], &quot;type&quot;: &quot;Point&quot;}, &quot;id&quot;: &quot;11&quot;, &quot;properties&quot;: {&quot;Agatha writes&quot;: &quot;One thing that gave me particular pleasure was writing a story\\u0096a long-short I think they call it: something between a book and a short story\\u0096the proceeds of which went to put a stained glass window in my local church at Churston Ferrers. It is a beautiful little church and the plain glass east window always gaped at me like a gap in teeth. I looked at it every Sunday and used to think how lovely it would look in pale colours. I knew nothing about stained glass, and I had a most difficult time visiting studios and getting different sketches made by stained glass artists. It was narrowed down in the end to a glass artist called Patterson, who lived in Bideford and who sent me a design for a window that I really admired very much\\u0096particularly his colours, which were not the ordinary red and blue but predominantly mauve and pale green, my favourite ones. I wanted the central figure to be the Good Shepherd. I had a little difficulty over this with the Diocese of Exeter, and, I may say, with Mr Patterson; both insisting that the central pattern of an east window had to be the Crucifixion. However, the Diocese, on making some research into the matter, agreed that I could have Jesus as the Good Shepherd, since it was a pastoral parish. I wanted this to be a happy window which children could look at with pleasure. So in the centre is the Good Shepherd with His lamb, and the other panels are the manger and the Virgin with the Child, the angels appearing to the shepherds in the field, the fishermen in their boat with their nets, and the Figure walking on the sea. They are all the simpler scenes of the Gospel story, and I love it and enjoy looking at it on Sundays. Mr Patterson has made a fine window. It will, I think, stand the test of the centuries because it is simple. I am both proud and humble that I have been permitted to offer it with the proceeds of my work.&quot;, &quot;label&quot;: &quot;Churston Ferrers&quot;, &quot;lat&quot;: 50.4, &quot;long&quot;: -3.557, &quot;name&quot;: &quot;Churston Ferrers&quot;}, &quot;type&quot;: &quot;Feature&quot;}, {&quot;geometry&quot;: {&quot;coordinates&quot;: [11.3, 43.8], &quot;type&quot;: &quot;Point&quot;}, &quot;id&quot;: &quot;12&quot;, &quot;properties&quot;: {&quot;Agatha writes&quot;: &quot;Stengel, May\\u0092s maid, met me in Florence, and we went up together in the tram to Fiesole. It was inexpressibly beautiful on that day. All the early almond and peach blossom was out, delicate white and pink on the bare branches of the trees.&quot;, &quot;label&quot;: &quot;Fiesole&quot;, &quot;lat&quot;: 43.8, &quot;long&quot;: 11.3, &quot;name&quot;: &quot;Fiesole&quot;}, &quot;type&quot;: &quot;Feature&quot;}, {&quot;geometry&quot;: {&quot;coordinates&quot;: [22.0, 42.0], &quot;type&quot;: &quot;Point&quot;}, &quot;id&quot;: &quot;13&quot;, &quot;properties&quot;: {&quot;Agatha writes&quot;: &quot;The journey was all that I had hoped for. After Trieste we went through Yugoslavia and the Balkans, and there was all the fascination of looking out at an entirely different world&quot;, &quot;label&quot;: &quot;Balkans&quot;, &quot;lat&quot;: 42.0, &quot;long&quot;: 22.0, &quot;name&quot;: &quot;Balkans&quot;}, &quot;type&quot;: &quot;Feature&quot;}, {&quot;geometry&quot;: {&quot;coordinates&quot;: [-0.134397222, 51.52524167], &quot;type&quot;: &quot;Point&quot;}, &quot;id&quot;: &quot;14&quot;, &quot;properties&quot;: {&quot;Agatha writes&quot;: &quot;The majority of patients in the out-patient department at University College Hospital, where I worked in 1948, were particular as to the exact colour and taste of their preparations. I remember an old Irish woman who leant into the dispensary window, pressed half-a-crown into my palm, and murmured: \\u0091Make it double strong, dearie, will you? Plenty of peppermint, double strong.\\u0092 I returned her the half-a-crown, saying priggishly that we didn\\u0092t accept that sort of thing, and added that she had to have the medicine exactly as the doctor had ordered it. I did, however, give her an extra dollop of peppermint water, since it could not possibly do her any harm and she enjoyed it so much.&quot;, &quot;label&quot;: &quot;University College Hospital&quot;, &quot;lat&quot;: 51.52524167, &quot;long&quot;: -0.134397222, &quot;name&quot;: &quot;University College Hospital&quot;}, &quot;type&quot;: &quot;Feature&quot;}, {&quot;geometry&quot;: {&quot;coordinates&quot;: [-3.523893, 50.458267], &quot;type&quot;: &quot;Point&quot;}, &quot;id&quot;: &quot;15&quot;, &quot;properties&quot;: {&quot;Agatha writes&quot;: &quot;The Torbay Yacht Club was stationed on Beacon Terrace, just above the Ladies\\u0092 Bathing-Cove. Although the beach was properly invisible from the Club windows, the sea around the raft was not, and, according to my father, a good many of the gentlemen spent their time with opera glasses enjoying the sight of female figures displayed in what they hopefully thought of as almost a state of nudity! I don\\u0092t think we can have been sexually very appealing in those shapeless garments.&quot;, &quot;label&quot;: &quot;Torbay&quot;, &quot;lat&quot;: 50.458267, &quot;long&quot;: -3.523893, &quot;name&quot;: &quot;Torbay Yacht Club&quot;}, &quot;type&quot;: &quot;Feature&quot;}, {&quot;geometry&quot;: {&quot;coordinates&quot;: [-3.528055556, 50.4625], &quot;type&quot;: &quot;Point&quot;}, &quot;id&quot;: &quot;16&quot;, &quot;properties&quot;: {&quot;Agatha writes&quot;: &quot;Torquay was then the Riviera of England, and people paid large rents for furnished villas there, during quite a gay winter season with concerts in the afternoons, lectures, occasional dances, and a great deal of other social activity.&quot;, &quot;label&quot;: &quot;Torquay&quot;, &quot;lat&quot;: 50.4625, &quot;long&quot;: -3.528055556, &quot;name&quot;: &quot;Torquay&quot;}, &quot;type&quot;: &quot;Feature&quot;}, {&quot;geometry&quot;: {&quot;coordinates&quot;: [-0.126944444, 51.51944444], &quot;type&quot;: &quot;Point&quot;}, &quot;id&quot;: &quot;17&quot;, &quot;properties&quot;: {&quot;Agatha writes&quot;: &quot;We came home to England, flushed with triumph, and Max began a busy summer writing up his account of the campaign. We had an exhibition at the British Museum of some of our finds; and Max\\u0092s book on Arpachiyah came out either that year or the next&quot;, &quot;label&quot;: &quot;British Museum&quot;, &quot;lat&quot;: 51.51944444, &quot;long&quot;: -0.126944444, &quot;name&quot;: &quot;British Museum&quot;}, &quot;type&quot;: &quot;Feature&quot;}, {&quot;geometry&quot;: {&quot;coordinates&quot;: [43.15, 36.366667], &quot;type&quot;: &quot;Point&quot;}, &quot;id&quot;: &quot;18&quot;, &quot;properties&quot;: {&quot;Agatha writes&quot;: &quot;We drove off to the house that the Campbell-Thompsons had taken, near the big mound of Nineveh. It was a mile and a half out of Mosul, and altogether charming\\u0096one that I shall always think of with love and affection. It had a flat roof with a square tower room on one side of it, and a handsome marble porch. Max and I had the upstairs room. It was sparsely furnished, mainly with orange boxes, and had two camp-beds. All round the little house was a mass of rose bushes. They had lots of pink rose-buds on them when we arrived. Tomorrow morning, I thought, the roses will be fully out; how lovely they will look. But no, next morning they were rose-buds still. This phenomenon of nature I could not understand\\u0096a rose is surely not a night-blooming cereus\\u0096but the truth was that these were grown for making ottar of roses and men came at four o\\u0092clock in the morning to pick them as they opened. By daybreak, the next crop of buds was all that remained.&quot;, &quot;label&quot;: &quot;Nineveh&quot;, &quot;lat&quot;: 36.366667, &quot;long&quot;: 43.15, &quot;name&quot;: &quot;Nineveh&quot;}, &quot;type&quot;: &quot;Feature&quot;}, {&quot;geometry&quot;: {&quot;coordinates&quot;: [-0.20932, 51.5025], &quot;type&quot;: &quot;Point&quot;}, &quot;id&quot;: &quot;19&quot;, &quot;properties&quot;: {&quot;Agatha writes&quot;: &quot;We found a flat, rather luckily, quite soon. It was on the ground floor of Addison Mansions, which were two big blocks of buildings situated behind Olympia. It was a big flat, four bedrooms and two sitting-rooms. We took it furnished for five guineas a week. The woman who let it to us was a terrifically peroxided blonde of forty-five, with an immense swelling bust. She was very friendly and insisted on telling me a lot about her daughter\\u0092s internal ailments. The flat was filled with particularly hideous furniture, and had some of the most sentimental pictures I have ever seen. I made a mental note that the first thing Archie and I would do would be to take them down and stack them tidily to await the owner\\u0092s return. There was plenty of china and glass and all that kind of thing, including one egg-shell tea-set which frightened me because I thought it so fragile that it was sure to get broken. With Lucy\\u0092s aid, we stored it away in one of the cupboards as soon as we arrived.&quot;, &quot;label&quot;: &quot;Addison Road&quot;, &quot;lat&quot;: 51.5025, &quot;long&quot;: -0.20932, &quot;name&quot;: &quot;Addison Road&quot;}, &quot;type&quot;: &quot;Feature&quot;}, {&quot;geometry&quot;: {&quot;coordinates&quot;: [-157.8572222, 21.30472222], &quot;type&quot;: &quot;Point&quot;}, &quot;id&quot;: &quot;20&quot;, &quot;properties&quot;: {&quot;Agatha writes&quot;: &quot;We had a lazy voyage, stopping at Fiji and other islands, and finally arrived at Honolulu. It was far more sophisticated than we had imagined with masses of hotels and roads and motor-cars. We arrived in the early morning, got into our rooms at the hotel, and straight away, seeing out of the window the people surfing on the beach, we rushed down, hired our surf-boards, and plunged into the sea. We were, of course, complete innocents. It was a bad day for surfing\\u0096one of the days when only the experts go in\\u0096but we, who had surfed in South Africa, thought we knew all about it. It is very different in Honolulu. Your board, for instance, is a great slab of wood, almost too heavy to lift. You lie on it, and slowly paddle yourself out towards the reef, which is\\u0096or so it seemed to me\\u0096about a mile away. Then, when you have finally got there, you arrange yourself in position and wait for the proper kind of wave to come and shoot you through the sea to the shore. This is not so easy as it looks. First you have to recognise the proper wave when it comes, and secondly, even more important, you have to know the wrong wave when it comes, because if that catches you and forces you down to the bottom, Heaven help you!&quot;, &quot;label&quot;: &quot;Honolulu&quot;, &quot;lat&quot;: 21.30472222, &quot;long&quot;: -157.8572222, &quot;name&quot;: &quot;Honolulu&quot;}, &quot;type&quot;: &quot;Feature&quot;}, {&quot;geometry&quot;: {&quot;coordinates&quot;: [51.67472222, 32.6525], &quot;type&quot;: &quot;Point&quot;}, &quot;id&quot;: &quot;21&quot;, &quot;properties&quot;: {&quot;Agatha writes&quot;: &quot;We resumed our drive, and arrived, rather weary, in Isfahan, and Isfahan, from that time forward, has been listed by me as the most beautiful city in the world. Never have I seen anything like its glorious colours, of rose, blue and gold\\u0096the flowers, birds, arabesques, lovely fairy-tale buildings, and everywhere beautiful coloured tiles\\u0096yes, a fairyland city. After I saw it that first time I did not visit it again for nearly twenty years, and I was terrified to go there then because I thought it would be completely different. Fortunately it had changed very little. Naturally there were more modern streets, and a few slightly more modern shops, but the noble Islamic buildings, the courts, the tiles and the fountains\\u0096they were all there still. The people were less fanatical by this time, and one could visit many of the interiors of the mosques which were inaccessible before.&quot;, &quot;label&quot;: &quot;Isfahan&quot;, &quot;lat&quot;: 32.6525, &quot;long&quot;: 51.67472222, &quot;name&quot;: &quot;Isfahan&quot;}, &quot;type&quot;: &quot;Feature&quot;}, {&quot;geometry&quot;: {&quot;coordinates&quot;: [-2.21126, 53.3995], &quot;type&quot;: &quot;Point&quot;}, &quot;id&quot;: &quot;22&quot;, &quot;properties&quot;: {&quot;Agatha writes&quot;: &quot;We spent Christmas at Abney Hall, with the old Wattses and their four children and Jack. It was a wonderful house to have Christmas in if you were a child. Not only was it enormous Victorian Gothic, with quantities of rooms, passages, unexpected steps, back staircases, front staircases, alcoves, niches\\u0096everything in the world that a child could want\\u0096but it also had three different pianos that you could play, as well as an organ. All it lacked was the light of day; it was remarkably dark, except for the big drawing-room with its green satin walls and its big windows&quot;, &quot;label&quot;: &quot;Abney Hall&quot;, &quot;lat&quot;: 53.3995, &quot;long&quot;: -2.21126, &quot;name&quot;: &quot;Abney Hall&quot;}, &quot;type&quot;: &quot;Feature&quot;}, {&quot;geometry&quot;: {&quot;coordinates&quot;: [143.583, -34.65], &quot;type&quot;: &quot;Point&quot;}, &quot;id&quot;: &quot;23&quot;, &quot;properties&quot;: {&quot;Agatha writes&quot;: &quot;We stayed in New South Wales at a station called, I think, Yanga, where I remember a great lake with black swans sailing on it. It was a lovely picture. Here, while Belcher and Archie were busy putting forth the claims of the British Empire, migration within the Empire, the importance of trade within the Empire, and so on and so forth, I was allowed to spend a happy day sitting in the orange groves. I had a nice long deck-chair, there was delicious sunshine, and as far as I remember I ate twenty-three oranges\\u0096carefully selecting the very best from the trees round me. Ripe oranges plucked straight from the trees, are the most delicious things you can imagine.&quot;, &quot;label&quot;: &quot;Yanga National Park&quot;, &quot;lat&quot;: -34.65, &quot;long&quot;: 143.583, &quot;name&quot;: &quot;Yanga National Park&quot;}, &quot;type&quot;: &quot;Feature&quot;}, {&quot;geometry&quot;: {&quot;coordinates&quot;: [25.86666667, -17.85], &quot;type&quot;: &quot;Point&quot;}, &quot;id&quot;: &quot;24&quot;, &quot;properties&quot;: {&quot;Agatha writes&quot;: &quot;We went to Livingstone and saw the crocodiles swimming about, and the hippopotami. From the train journey I brought back carved wooden animals, held up at various stations by little native boys, asking three-pence or sixpence for them. They were delightful. I still have several of them, carved in soft wood and marked, I suppose, with a hot poker: elands, giraffes, hippopotami, zebras\\u0096simple, crude, and with a great charm and grace of their own.&quot;, &quot;label&quot;: &quot;Livingstone&quot;, &quot;lat&quot;: -17.85, &quot;long&quot;: 25.86666667, &quot;name&quot;: &quot;Livingstone&quot;}, &quot;type&quot;: &quot;Feature&quot;}], &quot;type&quot;: &quot;FeatureCollection&quot;});\n",
       "\n",
       "        \n",
       "    \n",
       "            geo_json_2938dfd01aafec322079a555f5c5761d.addTo(map_882b137168f4912bb15345a3e2bd765b);\n",
       "        \n",
       "&lt;/script&gt;\n",
       "&lt;/html&gt;\" style=\"position:absolute;width:100%;height:100%;left:0;top:0;border:none !important;\" allowfullscreen webkitallowfullscreen mozallowfullscreen></iframe></div></div>"
      ],
      "text/plain": [
       "<folium.folium.Map at 0x223c4566c60>"
      ]
     },
     "execution_count": 8,
     "metadata": {},
     "output_type": "execute_result"
    }
   ],
   "source": [
    "m = folium.Map(location=(-0.20932, 51.5025), zoom_control=False)\n",
    "\n",
    "geojson = folium.GeoJson(\n",
    "    tgjson,\n",
    "    style_function=lambda feature: {\n",
    "        \"weight\": 1,\n",
    "        \"color\": \"#fcfcfc\",\n",
    "        \"fillOpacity\": 0.8,\n",
    "        \"fillColor\":  \"#020202\"\n",
    "    },\n",
    ").add_to(m)\n",
    "\n",
    "m"
   ]
  },
  {
   "cell_type": "code",
   "execution_count": 10,
   "id": "4b1b2aa7",
   "metadata": {},
   "outputs": [
    {
     "data": {
      "text/html": [
       "<div style=\"width:100%;\"><div style=\"position:relative;width:100%;height:0;padding-bottom:60%;\"><span style=\"color:#565656\">Make this Notebook Trusted to load map: File -> Trust Notebook</span><iframe srcdoc=\"&lt;!DOCTYPE html&gt;\n",
       "&lt;html&gt;\n",
       "&lt;head&gt;\n",
       "    \n",
       "    &lt;meta http-equiv=&quot;content-type&quot; content=&quot;text/html; charset=UTF-8&quot; /&gt;\n",
       "    \n",
       "        &lt;script&gt;\n",
       "            L_NO_TOUCH = false;\n",
       "            L_DISABLE_3D = false;\n",
       "        &lt;/script&gt;\n",
       "    \n",
       "    &lt;style&gt;html, body {width: 100%;height: 100%;margin: 0;padding: 0;}&lt;/style&gt;\n",
       "    &lt;style&gt;#map {position:absolute;top:0;bottom:0;right:0;left:0;}&lt;/style&gt;\n",
       "    &lt;script src=&quot;https://cdn.jsdelivr.net/npm/leaflet@1.9.3/dist/leaflet.js&quot;&gt;&lt;/script&gt;\n",
       "    &lt;script src=&quot;https://code.jquery.com/jquery-3.7.1.min.js&quot;&gt;&lt;/script&gt;\n",
       "    &lt;script src=&quot;https://cdn.jsdelivr.net/npm/bootstrap@5.2.2/dist/js/bootstrap.bundle.min.js&quot;&gt;&lt;/script&gt;\n",
       "    &lt;script src=&quot;https://cdnjs.cloudflare.com/ajax/libs/Leaflet.awesome-markers/2.0.2/leaflet.awesome-markers.js&quot;&gt;&lt;/script&gt;\n",
       "    &lt;link rel=&quot;stylesheet&quot; href=&quot;https://cdn.jsdelivr.net/npm/leaflet@1.9.3/dist/leaflet.css&quot;/&gt;\n",
       "    &lt;link rel=&quot;stylesheet&quot; href=&quot;https://cdn.jsdelivr.net/npm/bootstrap@5.2.2/dist/css/bootstrap.min.css&quot;/&gt;\n",
       "    &lt;link rel=&quot;stylesheet&quot; href=&quot;https://netdna.bootstrapcdn.com/bootstrap/3.0.0/css/bootstrap-glyphicons.css&quot;/&gt;\n",
       "    &lt;link rel=&quot;stylesheet&quot; href=&quot;https://cdn.jsdelivr.net/npm/@fortawesome/fontawesome-free@6.2.0/css/all.min.css&quot;/&gt;\n",
       "    &lt;link rel=&quot;stylesheet&quot; href=&quot;https://cdnjs.cloudflare.com/ajax/libs/Leaflet.awesome-markers/2.0.2/leaflet.awesome-markers.css&quot;/&gt;\n",
       "    &lt;link rel=&quot;stylesheet&quot; href=&quot;https://cdn.jsdelivr.net/gh/python-visualization/folium/folium/templates/leaflet.awesome.rotate.min.css&quot;/&gt;\n",
       "    \n",
       "            &lt;meta name=&quot;viewport&quot; content=&quot;width=device-width,\n",
       "                initial-scale=1.0, maximum-scale=1.0, user-scalable=no&quot; /&gt;\n",
       "            &lt;style&gt;\n",
       "                #map_766d828d161d80ca9e6010e476d0dec4 {\n",
       "                    position: relative;\n",
       "                    width: 100.0%;\n",
       "                    height: 100.0%;\n",
       "                    left: 0.0%;\n",
       "                    top: 0.0%;\n",
       "                }\n",
       "                .leaflet-container { font-size: 1rem; }\n",
       "            &lt;/style&gt;\n",
       "        \n",
       "    \n",
       "                    &lt;style&gt;\n",
       "                        .foliumpopup {\n",
       "                            margin: auto;\n",
       "                        }\n",
       "                       .foliumpopup table{\n",
       "                            margin: auto;\n",
       "                        }\n",
       "                        .foliumpopup tr{\n",
       "                            text-align: left;\n",
       "                        }\n",
       "                        .foliumpopup th{\n",
       "                            padding: 2px; padding-right: 8px;\n",
       "                        }\n",
       "                    &lt;/style&gt;\n",
       "            \n",
       "&lt;/head&gt;\n",
       "&lt;body&gt;\n",
       "    \n",
       "    \n",
       "            &lt;div class=&quot;folium-map&quot; id=&quot;map_766d828d161d80ca9e6010e476d0dec4&quot; &gt;&lt;/div&gt;\n",
       "        \n",
       "&lt;/body&gt;\n",
       "&lt;script&gt;\n",
       "    \n",
       "    \n",
       "            var map_766d828d161d80ca9e6010e476d0dec4 = L.map(\n",
       "                &quot;map_766d828d161d80ca9e6010e476d0dec4&quot;,\n",
       "                {\n",
       "                    center: [51.5025, -0.20932],\n",
       "                    crs: L.CRS.EPSG3857,\n",
       "                    ...{\n",
       "  &quot;zoom&quot;: 4,\n",
       "  &quot;zoomControl&quot;: true,\n",
       "  &quot;preferCanvas&quot;: false,\n",
       "}\n",
       "\n",
       "                }\n",
       "            );\n",
       "            L.control.scale().addTo(map_766d828d161d80ca9e6010e476d0dec4);\n",
       "\n",
       "            \n",
       "\n",
       "        \n",
       "    \n",
       "            var tile_layer_cb08b7e23eee6117e38e7a4aa0a062b6 = L.tileLayer(\n",
       "                &quot;https://{s}.basemaps.cartocdn.com/light_all/{z}/{x}/{y}{r}.png&quot;,\n",
       "                {\n",
       "  &quot;minZoom&quot;: 0,\n",
       "  &quot;maxZoom&quot;: 20,\n",
       "  &quot;maxNativeZoom&quot;: 20,\n",
       "  &quot;noWrap&quot;: false,\n",
       "  &quot;attribution&quot;: &quot;\\u0026copy; \\u003ca href=\\&quot;https://www.openstreetmap.org/copyright\\&quot;\\u003eOpenStreetMap\\u003c/a\\u003e contributors \\u0026copy; \\u003ca href=\\&quot;https://carto.com/attributions\\&quot;\\u003eCARTO\\u003c/a\\u003e&quot;,\n",
       "  &quot;subdomains&quot;: &quot;abcd&quot;,\n",
       "  &quot;detectRetina&quot;: false,\n",
       "  &quot;tms&quot;: false,\n",
       "  &quot;opacity&quot;: 1,\n",
       "}\n",
       "\n",
       "            );\n",
       "        \n",
       "    \n",
       "            tile_layer_cb08b7e23eee6117e38e7a4aa0a062b6.addTo(map_766d828d161d80ca9e6010e476d0dec4);\n",
       "        \n",
       "    \n",
       "\n",
       "        function geo_json_8ad979242f9ff485927cc35d87945775_onEachFeature(feature, layer) {\n",
       "            layer.on({\n",
       "            });\n",
       "        };\n",
       "        var geo_json_8ad979242f9ff485927cc35d87945775 = L.geoJson(null, {\n",
       "                onEachFeature: geo_json_8ad979242f9ff485927cc35d87945775_onEachFeature,\n",
       "            \n",
       "            ...{\n",
       "}\n",
       "        });\n",
       "\n",
       "        function geo_json_8ad979242f9ff485927cc35d87945775_add (data) {\n",
       "            geo_json_8ad979242f9ff485927cc35d87945775\n",
       "                .addData(data);\n",
       "        }\n",
       "            geo_json_8ad979242f9ff485927cc35d87945775_add({&quot;features&quot;: [{&quot;geometry&quot;: {&quot;coordinates&quot;: [-3.6087, 50.5403], &quot;type&quot;: &quot;Point&quot;}, &quot;id&quot;: &quot;0&quot;, &quot;properties&quot;: {&quot;Agatha writes&quot;: &quot;A deputy of Mrs Wordsworth started a dancing evening for adults at Newton Abbot, and I and others used to go over for instruction. There I made what I called \\u0091my Tango friend\\u0092\\u0096a young man whose Christian name was Ronald and whose last name I cannot remember. We rarely spoke to each other or took the least interest in each other\\u0096our whole mind was engrossed with our feet.&quot;, &quot;label&quot;: &quot;Newton Abbot&quot;, &quot;lat&quot;: 50.5403, &quot;long&quot;: -3.6087, &quot;name&quot;: &quot;Newton Abbot&quot;}, &quot;type&quot;: &quot;Feature&quot;}, {&quot;geometry&quot;: {&quot;coordinates&quot;: [-0.0923, 51.3752], &quot;type&quot;: &quot;Point&quot;}, &quot;id&quot;: &quot;1&quot;, &quot;properties&quot;: {&quot;Agatha writes&quot;: &quot;Among our other activities at the weekend, Archie and I sometimes went by train to East Croydon and played golf there. I had never been much of a golfer, and Archie had played little, but he became keenly appreciative of the game. After a while, we seemed to go every weekend to East Croydon. I did not really mind, but I missed the variety of exploring places and going long walks. In the end that choice of recreation was to make a big difference to our lives.&quot;, &quot;label&quot;: &quot;East Croydon railway station&quot;, &quot;lat&quot;: 51.3752, &quot;long&quot;: -0.0923, &quot;name&quot;: &quot;East Croydon railway station&quot;}, &quot;type&quot;: &quot;Feature&quot;}, {&quot;geometry&quot;: {&quot;coordinates&quot;: [45.23083333, 32.12611111], &quot;type&quot;: &quot;Point&quot;}, &quot;id&quot;: &quot;2&quot;, &quot;properties&quot;: {&quot;Agatha writes&quot;: &quot;I enjoyed the day at Nippur very much, though it was extremely exhausting. We motored for hours over rough ground, and walked round what seemed acres of excavations. I don\\u0092t suppose I would have found it very interesting had I not had someone with me to explain it all. As it was I became more enamoured of digging than ever.&quot;, &quot;label&quot;: &quot;Nippur&quot;, &quot;lat&quot;: 32.12611111, &quot;long&quot;: 45.23083333, &quot;name&quot;: &quot;Nippur&quot;}, &quot;type&quot;: &quot;Feature&quot;}, {&quot;geometry&quot;: {&quot;coordinates&quot;: [34.61666667, 36.8], &quot;type&quot;: &quot;Point&quot;}, &quot;id&quot;: &quot;3&quot;, &quot;properties&quot;: {&quot;Agatha writes&quot;: &quot;I remember best going ashore with Max at Mersin, and spending a happy day on the beach, bathing in a glorious warm sea. It was on that day that he picked me enormous quantities of yellow marigolds. I made them into a chain and he hung them around my neck, and we had a picnic lunch in the midst of a great sea of yellow marigolds.&quot;, &quot;label&quot;: &quot;Mersin&quot;, &quot;lat&quot;: 36.8, &quot;long&quot;: 34.61666667, &quot;name&quot;: &quot;Mersin&quot;}, &quot;type&quot;: &quot;Feature&quot;}, {&quot;geometry&quot;: {&quot;coordinates&quot;: [-1.339166667, 52.06138889], &quot;type&quot;: &quot;Point&quot;}, &quot;id&quot;: &quot;4&quot;, &quot;properties&quot;: {&quot;Agatha writes&quot;: &quot;I remember one day we made an excursion to Banbury. Starting out was rather like equipping an expedition to the North Pole.&quot;, &quot;label&quot;: &quot;Banbury&quot;, &quot;lat&quot;: 52.06138889, &quot;long&quot;: -1.339166667, &quot;name&quot;: &quot;Banbury&quot;}, &quot;type&quot;: &quot;Feature&quot;}, {&quot;geometry&quot;: {&quot;coordinates&quot;: [-0.626, 51.398], &quot;type&quot;: &quot;Point&quot;}, &quot;id&quot;: &quot;5&quot;, &quot;properties&quot;: {&quot;Agatha writes&quot;: &quot;I was making friends in Sunningdale, but Sunningdale society was mainly of two kinds: the middle aged, who were passionately fond of gardens and talked of practically nothing else; or the gay, sporting rich, who drank a good deal, had cocktail parties, and were not really my type, or indeed, for that matter, Archie\\u0092s.&quot;, &quot;label&quot;: &quot;Sunningdale&quot;, &quot;lat&quot;: 51.398, &quot;long&quot;: -0.626, &quot;name&quot;: &quot;Sunningdale&quot;}, &quot;type&quot;: &quot;Feature&quot;}, {&quot;geometry&quot;: {&quot;coordinates&quot;: [-0.177222222, 51.51666667], &quot;type&quot;: &quot;Point&quot;}, &quot;id&quot;: &quot;6&quot;, &quot;properties&quot;: {&quot;Agatha writes&quot;: &quot;I went down for a weekend to Rosalind in Wales and came back by a late train on the Sunday night. It was one of those trains one had so often to endure in wartime, freezing cold, and of course when one got to Paddington there was no means of getting anywhere. I took some complicated train which finally landed me at a station in Hampstead not too far away from Lawn Road Flats, and from there I walked home, carrying some kippers and my suitcase.&quot;, &quot;label&quot;: &quot;London Paddington station&quot;, &quot;lat&quot;: 51.51666667, &quot;long&quot;: -0.177222222, &quot;name&quot;: &quot;Paddington&quot;}, &quot;type&quot;: &quot;Feature&quot;}, {&quot;geometry&quot;: {&quot;coordinates&quot;: [11.25416667, 43.77138889], &quot;type&quot;: &quot;Point&quot;}, &quot;id&quot;: &quot;7&quot;, &quot;properties&quot;: {&quot;Agatha writes&quot;: &quot;I went sightseeing into Florence every day. Sometimes Stengel went with me, but more often a young Italian woman engaged by May came up to Fiesole and escorted me into the town. Young girls had to be even more carefully chaperoned in Italy than in France, and indeed I suffered all the discomforts of being pinched in trams by ardent young men\\u0096most painful. It was then that I had been subjected to so large a dose of picture galleries and museums. Greedy as ever, what I looked forward to was the delicious meal in a patisserie before catching the tram back to Fiesole.&quot;, &quot;label&quot;: &quot;Florence&quot;, &quot;lat&quot;: 43.77138889, &quot;long&quot;: 11.25416667, &quot;name&quot;: &quot;Florence&quot;}, &quot;type&quot;: &quot;Feature&quot;}, {&quot;geometry&quot;: {&quot;coordinates&quot;: [-0.113611111, 42.88916667], &quot;type&quot;: &quot;Point&quot;}, &quot;id&quot;: &quot;8&quot;, &quot;properties&quot;: {&quot;Agatha writes&quot;: &quot;In the early summer it grew hot in Pau, and we left, spending a week at Argeles and another at Lourdes, then moving up to Cauterets in the Pyrenees. This was a delightful spot, right at the foot of the mountains. (I had got over my disappointment about mountains now, but although the position at Cauterets was more satisfactory you could not really look a long way up. Every morning we had a walk along a mountain path which led to the spa, where we all drank glasses of nasty water. Having thus improved our health we purchased a stick of sucre d\\u0092orge. Mother\\u0092s favourite was aniseed, which I could not bear. On the zigzag paths by the hotel I soon discovered a delightful sport. This was to toboggan down through the pine trees on the seat of my pants. Marie took a poor view of this, but I am sorry to say that from the first Marie was never able to exert any authority over me.&quot;, &quot;label&quot;: &quot;Cauterets&quot;, &quot;lat&quot;: 42.88916667, &quot;long&quot;: -0.113611111, &quot;name&quot;: &quot;Cauterets&quot;}, &quot;type&quot;: &quot;Feature&quot;}, {&quot;geometry&quot;: {&quot;coordinates&quot;: [29.01666667, 41.0], &quot;type&quot;: &quot;Point&quot;}, &quot;id&quot;: &quot;9&quot;, &quot;properties&quot;: {&quot;Agatha writes&quot;: &quot;Next day I was called on by Cook\\u0092s representatives in the most conventional fashion, and taken across the Bosphorus to Haidar Pasha, where I resumed my journey on the Orient Express. I was glad to have my guide with me, for anything more like a lunatic asylum than Haidar Pasha Station cannot be imagined. Everyone shouted, screamed, thumped, and demanded the attention of the Customs Officer.&quot;, &quot;label&quot;: &quot;Haidar Pasha&quot;, &quot;lat&quot;: 41.0, &quot;long&quot;: 29.01666667, &quot;name&quot;: &quot;Haydarpa?a&quot;}, &quot;type&quot;: &quot;Feature&quot;}, {&quot;geometry&quot;: {&quot;coordinates&quot;: [-0.7117, 51.0899], &quot;type&quot;: &quot;Point&quot;}, &quot;id&quot;: &quot;10&quot;, &quot;properties&quot;: {&quot;Agatha writes&quot;: &quot;Once or twice I went down to stay with Francis Sullivan, the actor, and his wife. They had a house at Haslemere, with Spanish chestnut woods all round it. I always found it restful to stay with actors in wartime, because to them, acting and the theatrical world were the real world, any other world was not. The war to them was a long drawn-out nightmare that prevented them from going on with their own lives, in the proper way, so their entire talk was of theatrical people, theatrical things, what was going on in the theatrical world, who was going into E.N.S.A.\\u0096it was wonderfully refreshing.&quot;, &quot;label&quot;: &quot;Haslemere&quot;, &quot;lat&quot;: 51.0899, &quot;long&quot;: -0.7117, &quot;name&quot;: &quot;Haslemere&quot;}, &quot;type&quot;: &quot;Feature&quot;}, {&quot;geometry&quot;: {&quot;coordinates&quot;: [-3.557, 50.4], &quot;type&quot;: &quot;Point&quot;}, &quot;id&quot;: &quot;11&quot;, &quot;properties&quot;: {&quot;Agatha writes&quot;: &quot;One thing that gave me particular pleasure was writing a story\\u0096a long-short I think they call it: something between a book and a short story\\u0096the proceeds of which went to put a stained glass window in my local church at Churston Ferrers. It is a beautiful little church and the plain glass east window always gaped at me like a gap in teeth. I looked at it every Sunday and used to think how lovely it would look in pale colours. I knew nothing about stained glass, and I had a most difficult time visiting studios and getting different sketches made by stained glass artists. It was narrowed down in the end to a glass artist called Patterson, who lived in Bideford and who sent me a design for a window that I really admired very much\\u0096particularly his colours, which were not the ordinary red and blue but predominantly mauve and pale green, my favourite ones. I wanted the central figure to be the Good Shepherd. I had a little difficulty over this with the Diocese of Exeter, and, I may say, with Mr Patterson; both insisting that the central pattern of an east window had to be the Crucifixion. However, the Diocese, on making some research into the matter, agreed that I could have Jesus as the Good Shepherd, since it was a pastoral parish. I wanted this to be a happy window which children could look at with pleasure. So in the centre is the Good Shepherd with His lamb, and the other panels are the manger and the Virgin with the Child, the angels appearing to the shepherds in the field, the fishermen in their boat with their nets, and the Figure walking on the sea. They are all the simpler scenes of the Gospel story, and I love it and enjoy looking at it on Sundays. Mr Patterson has made a fine window. It will, I think, stand the test of the centuries because it is simple. I am both proud and humble that I have been permitted to offer it with the proceeds of my work.&quot;, &quot;label&quot;: &quot;Churston Ferrers&quot;, &quot;lat&quot;: 50.4, &quot;long&quot;: -3.557, &quot;name&quot;: &quot;Churston Ferrers&quot;}, &quot;type&quot;: &quot;Feature&quot;}, {&quot;geometry&quot;: {&quot;coordinates&quot;: [11.3, 43.8], &quot;type&quot;: &quot;Point&quot;}, &quot;id&quot;: &quot;12&quot;, &quot;properties&quot;: {&quot;Agatha writes&quot;: &quot;Stengel, May\\u0092s maid, met me in Florence, and we went up together in the tram to Fiesole. It was inexpressibly beautiful on that day. All the early almond and peach blossom was out, delicate white and pink on the bare branches of the trees.&quot;, &quot;label&quot;: &quot;Fiesole&quot;, &quot;lat&quot;: 43.8, &quot;long&quot;: 11.3, &quot;name&quot;: &quot;Fiesole&quot;}, &quot;type&quot;: &quot;Feature&quot;}, {&quot;geometry&quot;: {&quot;coordinates&quot;: [22.0, 42.0], &quot;type&quot;: &quot;Point&quot;}, &quot;id&quot;: &quot;13&quot;, &quot;properties&quot;: {&quot;Agatha writes&quot;: &quot;The journey was all that I had hoped for. After Trieste we went through Yugoslavia and the Balkans, and there was all the fascination of looking out at an entirely different world&quot;, &quot;label&quot;: &quot;Balkans&quot;, &quot;lat&quot;: 42.0, &quot;long&quot;: 22.0, &quot;name&quot;: &quot;Balkans&quot;}, &quot;type&quot;: &quot;Feature&quot;}, {&quot;geometry&quot;: {&quot;coordinates&quot;: [-0.134397222, 51.52524167], &quot;type&quot;: &quot;Point&quot;}, &quot;id&quot;: &quot;14&quot;, &quot;properties&quot;: {&quot;Agatha writes&quot;: &quot;The majority of patients in the out-patient department at University College Hospital, where I worked in 1948, were particular as to the exact colour and taste of their preparations. I remember an old Irish woman who leant into the dispensary window, pressed half-a-crown into my palm, and murmured: \\u0091Make it double strong, dearie, will you? Plenty of peppermint, double strong.\\u0092 I returned her the half-a-crown, saying priggishly that we didn\\u0092t accept that sort of thing, and added that she had to have the medicine exactly as the doctor had ordered it. I did, however, give her an extra dollop of peppermint water, since it could not possibly do her any harm and she enjoyed it so much.&quot;, &quot;label&quot;: &quot;University College Hospital&quot;, &quot;lat&quot;: 51.52524167, &quot;long&quot;: -0.134397222, &quot;name&quot;: &quot;University College Hospital&quot;}, &quot;type&quot;: &quot;Feature&quot;}, {&quot;geometry&quot;: {&quot;coordinates&quot;: [-3.523893, 50.458267], &quot;type&quot;: &quot;Point&quot;}, &quot;id&quot;: &quot;15&quot;, &quot;properties&quot;: {&quot;Agatha writes&quot;: &quot;The Torbay Yacht Club was stationed on Beacon Terrace, just above the Ladies\\u0092 Bathing-Cove. Although the beach was properly invisible from the Club windows, the sea around the raft was not, and, according to my father, a good many of the gentlemen spent their time with opera glasses enjoying the sight of female figures displayed in what they hopefully thought of as almost a state of nudity! I don\\u0092t think we can have been sexually very appealing in those shapeless garments.&quot;, &quot;label&quot;: &quot;Torbay&quot;, &quot;lat&quot;: 50.458267, &quot;long&quot;: -3.523893, &quot;name&quot;: &quot;Torbay Yacht Club&quot;}, &quot;type&quot;: &quot;Feature&quot;}, {&quot;geometry&quot;: {&quot;coordinates&quot;: [-3.528055556, 50.4625], &quot;type&quot;: &quot;Point&quot;}, &quot;id&quot;: &quot;16&quot;, &quot;properties&quot;: {&quot;Agatha writes&quot;: &quot;Torquay was then the Riviera of England, and people paid large rents for furnished villas there, during quite a gay winter season with concerts in the afternoons, lectures, occasional dances, and a great deal of other social activity.&quot;, &quot;label&quot;: &quot;Torquay&quot;, &quot;lat&quot;: 50.4625, &quot;long&quot;: -3.528055556, &quot;name&quot;: &quot;Torquay&quot;}, &quot;type&quot;: &quot;Feature&quot;}, {&quot;geometry&quot;: {&quot;coordinates&quot;: [-0.126944444, 51.51944444], &quot;type&quot;: &quot;Point&quot;}, &quot;id&quot;: &quot;17&quot;, &quot;properties&quot;: {&quot;Agatha writes&quot;: &quot;We came home to England, flushed with triumph, and Max began a busy summer writing up his account of the campaign. We had an exhibition at the British Museum of some of our finds; and Max\\u0092s book on Arpachiyah came out either that year or the next&quot;, &quot;label&quot;: &quot;British Museum&quot;, &quot;lat&quot;: 51.51944444, &quot;long&quot;: -0.126944444, &quot;name&quot;: &quot;British Museum&quot;}, &quot;type&quot;: &quot;Feature&quot;}, {&quot;geometry&quot;: {&quot;coordinates&quot;: [43.15, 36.366667], &quot;type&quot;: &quot;Point&quot;}, &quot;id&quot;: &quot;18&quot;, &quot;properties&quot;: {&quot;Agatha writes&quot;: &quot;We drove off to the house that the Campbell-Thompsons had taken, near the big mound of Nineveh. It was a mile and a half out of Mosul, and altogether charming\\u0096one that I shall always think of with love and affection. It had a flat roof with a square tower room on one side of it, and a handsome marble porch. Max and I had the upstairs room. It was sparsely furnished, mainly with orange boxes, and had two camp-beds. All round the little house was a mass of rose bushes. They had lots of pink rose-buds on them when we arrived. Tomorrow morning, I thought, the roses will be fully out; how lovely they will look. But no, next morning they were rose-buds still. This phenomenon of nature I could not understand\\u0096a rose is surely not a night-blooming cereus\\u0096but the truth was that these were grown for making ottar of roses and men came at four o\\u0092clock in the morning to pick them as they opened. By daybreak, the next crop of buds was all that remained.&quot;, &quot;label&quot;: &quot;Nineveh&quot;, &quot;lat&quot;: 36.366667, &quot;long&quot;: 43.15, &quot;name&quot;: &quot;Nineveh&quot;}, &quot;type&quot;: &quot;Feature&quot;}, {&quot;geometry&quot;: {&quot;coordinates&quot;: [-0.20932, 51.5025], &quot;type&quot;: &quot;Point&quot;}, &quot;id&quot;: &quot;19&quot;, &quot;properties&quot;: {&quot;Agatha writes&quot;: &quot;We found a flat, rather luckily, quite soon. It was on the ground floor of Addison Mansions, which were two big blocks of buildings situated behind Olympia. It was a big flat, four bedrooms and two sitting-rooms. We took it furnished for five guineas a week. The woman who let it to us was a terrifically peroxided blonde of forty-five, with an immense swelling bust. She was very friendly and insisted on telling me a lot about her daughter\\u0092s internal ailments. The flat was filled with particularly hideous furniture, and had some of the most sentimental pictures I have ever seen. I made a mental note that the first thing Archie and I would do would be to take them down and stack them tidily to await the owner\\u0092s return. There was plenty of china and glass and all that kind of thing, including one egg-shell tea-set which frightened me because I thought it so fragile that it was sure to get broken. With Lucy\\u0092s aid, we stored it away in one of the cupboards as soon as we arrived.&quot;, &quot;label&quot;: &quot;Addison Road&quot;, &quot;lat&quot;: 51.5025, &quot;long&quot;: -0.20932, &quot;name&quot;: &quot;Addison Road&quot;}, &quot;type&quot;: &quot;Feature&quot;}, {&quot;geometry&quot;: {&quot;coordinates&quot;: [-157.8572222, 21.30472222], &quot;type&quot;: &quot;Point&quot;}, &quot;id&quot;: &quot;20&quot;, &quot;properties&quot;: {&quot;Agatha writes&quot;: &quot;We had a lazy voyage, stopping at Fiji and other islands, and finally arrived at Honolulu. It was far more sophisticated than we had imagined with masses of hotels and roads and motor-cars. We arrived in the early morning, got into our rooms at the hotel, and straight away, seeing out of the window the people surfing on the beach, we rushed down, hired our surf-boards, and plunged into the sea. We were, of course, complete innocents. It was a bad day for surfing\\u0096one of the days when only the experts go in\\u0096but we, who had surfed in South Africa, thought we knew all about it. It is very different in Honolulu. Your board, for instance, is a great slab of wood, almost too heavy to lift. You lie on it, and slowly paddle yourself out towards the reef, which is\\u0096or so it seemed to me\\u0096about a mile away. Then, when you have finally got there, you arrange yourself in position and wait for the proper kind of wave to come and shoot you through the sea to the shore. This is not so easy as it looks. First you have to recognise the proper wave when it comes, and secondly, even more important, you have to know the wrong wave when it comes, because if that catches you and forces you down to the bottom, Heaven help you!&quot;, &quot;label&quot;: &quot;Honolulu&quot;, &quot;lat&quot;: 21.30472222, &quot;long&quot;: -157.8572222, &quot;name&quot;: &quot;Honolulu&quot;}, &quot;type&quot;: &quot;Feature&quot;}, {&quot;geometry&quot;: {&quot;coordinates&quot;: [51.67472222, 32.6525], &quot;type&quot;: &quot;Point&quot;}, &quot;id&quot;: &quot;21&quot;, &quot;properties&quot;: {&quot;Agatha writes&quot;: &quot;We resumed our drive, and arrived, rather weary, in Isfahan, and Isfahan, from that time forward, has been listed by me as the most beautiful city in the world. Never have I seen anything like its glorious colours, of rose, blue and gold\\u0096the flowers, birds, arabesques, lovely fairy-tale buildings, and everywhere beautiful coloured tiles\\u0096yes, a fairyland city. After I saw it that first time I did not visit it again for nearly twenty years, and I was terrified to go there then because I thought it would be completely different. Fortunately it had changed very little. Naturally there were more modern streets, and a few slightly more modern shops, but the noble Islamic buildings, the courts, the tiles and the fountains\\u0096they were all there still. The people were less fanatical by this time, and one could visit many of the interiors of the mosques which were inaccessible before.&quot;, &quot;label&quot;: &quot;Isfahan&quot;, &quot;lat&quot;: 32.6525, &quot;long&quot;: 51.67472222, &quot;name&quot;: &quot;Isfahan&quot;}, &quot;type&quot;: &quot;Feature&quot;}, {&quot;geometry&quot;: {&quot;coordinates&quot;: [-2.21126, 53.3995], &quot;type&quot;: &quot;Point&quot;}, &quot;id&quot;: &quot;22&quot;, &quot;properties&quot;: {&quot;Agatha writes&quot;: &quot;We spent Christmas at Abney Hall, with the old Wattses and their four children and Jack. It was a wonderful house to have Christmas in if you were a child. Not only was it enormous Victorian Gothic, with quantities of rooms, passages, unexpected steps, back staircases, front staircases, alcoves, niches\\u0096everything in the world that a child could want\\u0096but it also had three different pianos that you could play, as well as an organ. All it lacked was the light of day; it was remarkably dark, except for the big drawing-room with its green satin walls and its big windows&quot;, &quot;label&quot;: &quot;Abney Hall&quot;, &quot;lat&quot;: 53.3995, &quot;long&quot;: -2.21126, &quot;name&quot;: &quot;Abney Hall&quot;}, &quot;type&quot;: &quot;Feature&quot;}, {&quot;geometry&quot;: {&quot;coordinates&quot;: [143.583, -34.65], &quot;type&quot;: &quot;Point&quot;}, &quot;id&quot;: &quot;23&quot;, &quot;properties&quot;: {&quot;Agatha writes&quot;: &quot;We stayed in New South Wales at a station called, I think, Yanga, where I remember a great lake with black swans sailing on it. It was a lovely picture. Here, while Belcher and Archie were busy putting forth the claims of the British Empire, migration within the Empire, the importance of trade within the Empire, and so on and so forth, I was allowed to spend a happy day sitting in the orange groves. I had a nice long deck-chair, there was delicious sunshine, and as far as I remember I ate twenty-three oranges\\u0096carefully selecting the very best from the trees round me. Ripe oranges plucked straight from the trees, are the most delicious things you can imagine.&quot;, &quot;label&quot;: &quot;Yanga National Park&quot;, &quot;lat&quot;: -34.65, &quot;long&quot;: 143.583, &quot;name&quot;: &quot;Yanga National Park&quot;}, &quot;type&quot;: &quot;Feature&quot;}, {&quot;geometry&quot;: {&quot;coordinates&quot;: [25.86666667, -17.85], &quot;type&quot;: &quot;Point&quot;}, &quot;id&quot;: &quot;24&quot;, &quot;properties&quot;: {&quot;Agatha writes&quot;: &quot;We went to Livingstone and saw the crocodiles swimming about, and the hippopotami. From the train journey I brought back carved wooden animals, held up at various stations by little native boys, asking three-pence or sixpence for them. They were delightful. I still have several of them, carved in soft wood and marked, I suppose, with a hot poker: elands, giraffes, hippopotami, zebras\\u0096simple, crude, and with a great charm and grace of their own.&quot;, &quot;label&quot;: &quot;Livingstone&quot;, &quot;lat&quot;: -17.85, &quot;long&quot;: 25.86666667, &quot;name&quot;: &quot;Livingstone&quot;}, &quot;type&quot;: &quot;Feature&quot;}], &quot;type&quot;: &quot;FeatureCollection&quot;});\n",
       "        geo_json_8ad979242f9ff485927cc35d87945775.setStyle(function(feature) {return feature.properties.style;});\n",
       "\n",
       "        \n",
       "    \n",
       "    geo_json_8ad979242f9ff485927cc35d87945775.bindPopup(\n",
       "    function(layer){\n",
       "    let div = L.DomUtil.create(&#x27;div&#x27;);\n",
       "    \n",
       "    let handleObject = feature=&gt;typeof(feature)==&#x27;object&#x27; ? JSON.stringify(feature) : feature;\n",
       "    let fields = [&quot;name&quot;, &quot;Agatha writes&quot;];\n",
       "    let aliases = [&quot;name&quot;, &quot;Agatha writes&quot;];\n",
       "    let table = &#x27;&lt;table&gt;&#x27; +\n",
       "        String(\n",
       "        fields.map(\n",
       "        (v,i)=&gt;\n",
       "        `&lt;tr&gt;\n",
       "            &lt;th&gt;${aliases[i].toLocaleString()}&lt;/th&gt;\n",
       "            \n",
       "            &lt;td&gt;${handleObject(layer.feature.properties[v]).toLocaleString()}&lt;/td&gt;\n",
       "        &lt;/tr&gt;`).join(&#x27;&#x27;))\n",
       "    +&#x27;&lt;/table&gt;&#x27;;\n",
       "    div.innerHTML=table;\n",
       "    \n",
       "    return div\n",
       "    }\n",
       "    ,{\n",
       "  &quot;className&quot;: &quot;foliumpopup&quot;,\n",
       "});\n",
       "                     \n",
       "    \n",
       "            geo_json_8ad979242f9ff485927cc35d87945775.addTo(map_766d828d161d80ca9e6010e476d0dec4);\n",
       "        \n",
       "&lt;/script&gt;\n",
       "&lt;/html&gt;\" style=\"position:absolute;width:100%;height:100%;left:0;top:0;border:none !important;\" allowfullscreen webkitallowfullscreen mozallowfullscreen></iframe></div></div>"
      ],
      "text/plain": [
       "<folium.folium.Map at 0x223c47adbe0>"
      ]
     },
     "execution_count": 10,
     "metadata": {},
     "output_type": "execute_result"
    }
   ],
   "source": [
    "map = folium.Map(location=[51.5025, -0.20932], tiles = 'cartodbpositron', zoom_start=4\n",
    "                 , control_scale=True)\n",
    "folium.features.GeoJson(tgjson, name=\"Agatha's Places\", popup=folium.features.GeoJsonPopup(fields=['name','Agatha writes'])).add_to(map)\n",
    "map"
   ]
  },
  {
   "cell_type": "code",
   "execution_count": null,
   "id": "85411b93",
   "metadata": {},
   "outputs": [],
   "source": []
  },
  {
   "cell_type": "code",
   "execution_count": 11,
   "id": "7e7043ab",
   "metadata": {},
   "outputs": [],
   "source": [
    "map.save(\"agathamap.html\")"
   ]
  },
  {
   "cell_type": "code",
   "execution_count": null,
   "id": "24da5bd8",
   "metadata": {},
   "outputs": [],
   "source": []
  },
  {
   "cell_type": "code",
   "execution_count": 101,
   "id": "84e38ef4",
   "metadata": {},
   "outputs": [
    {
     "data": {
      "text/plain": [
       "<Axes: >"
      ]
     },
     "execution_count": 101,
     "metadata": {},
     "output_type": "execute_result"
    },
    {
     "data": {
      "image/png": "[encoded data removed]",
      "text/plain": [
       "<Figure size 640x480 with 1 Axes>"
      ]
     },
     "metadata": {},
     "output_type": "display_data"
    }
   ],
   "source": [
    "tgdf.plot()"
   ]
  }
 ],
 "metadata": {
  "kernelspec": {
   "display_name": "Python 3",
   "language": "python",
   "name": "python3"
  },
  "language_info": {
   "codemirror_mode": {
    "name": "ipython",
    "version": 3
   },
   "file_extension": ".py",
   "mimetype": "text/x-python",
   "name": "python",
   "nbconvert_exporter": "python",
   "pygments_lexer": "ipython3",
   "version": "3.12.10"
  }
 },
 "nbformat": 4,
 "nbformat_minor": 5
}
